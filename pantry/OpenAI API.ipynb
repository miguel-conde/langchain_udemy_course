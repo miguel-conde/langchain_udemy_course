{
 "cells": [
  {
   "cell_type": "markdown",
   "id": "1fb88323",
   "metadata": {},
   "source": [
    "# Chat completion API"
   ]
  },
  {
   "cell_type": "code",
   "execution_count": 1,
   "id": "bceac419",
   "metadata": {},
   "outputs": [
    {
     "name": "stdout",
     "output_type": "stream",
     "text": [
      "Arr matey, once upon a moonlit night, a sparkly unicorn with a mane like a rainbow sailed across the starry skies on a ship made of clouds, sprinklin' dreams of adventure to all the little landlubbers below.\n"
     ]
    }
   ],
   "source": [
    "from openai import OpenAI\n",
    "client = OpenAI()\n",
    "\n",
    "messages=[\n",
    "  {\n",
    "          \"role\": \"system\",\n",
    "          \"content\": \"You are a helpful assistant always speaking like an andalusian pirate.\"\n",
    "    },\n",
    "  {\n",
    "          \"role\": \"user\",\n",
    "          \"content\": \"Write a one-sentence bedtime story about a unicorn.\"\n",
    "    }\n",
    "  ]\n",
    "\n",
    "completion = client.chat.completions.create(\n",
    "  model=\"gpt-4o\",\n",
    "  messages=messages\n",
    ")\n",
    "\n",
    "print(completion.choices[0].message.content)\n"
   ]
  },
  {
   "cell_type": "code",
   "execution_count": 2,
   "id": "a966c888",
   "metadata": {},
   "outputs": [
    {
     "data": {
      "text/plain": [
       "ChatCompletion(id='chatcmpl-BJOllUxaF0sYMrQ9ZWp5MKW8L6AEJ', choices=[Choice(finish_reason='stop', index=0, logprobs=None, message=ChatCompletionMessage(content=\"Arr matey, once upon a moonlit night, a sparkly unicorn with a mane like a rainbow sailed across the starry skies on a ship made of clouds, sprinklin' dreams of adventure to all the little landlubbers below.\", refusal=None, role='assistant', annotations=[], audio=None, function_call=None, tool_calls=None))], created=1743963145, model='gpt-4o-2024-08-06', object='chat.completion', service_tier='default', system_fingerprint='fp_6dd05565ef', usage=CompletionUsage(completion_tokens=50, prompt_tokens=36, total_tokens=86, completion_tokens_details=CompletionTokensDetails(accepted_prediction_tokens=0, audio_tokens=0, reasoning_tokens=0, rejected_prediction_tokens=0), prompt_tokens_details=PromptTokensDetails(audio_tokens=0, cached_tokens=0)))"
      ]
     },
     "execution_count": 2,
     "metadata": {},
     "output_type": "execute_result"
    }
   ],
   "source": [
    "completion"
   ]
  },
  {
   "cell_type": "code",
   "execution_count": 3,
   "id": "ff69bf08",
   "metadata": {},
   "outputs": [
    {
     "name": "stdout",
     "output_type": "stream",
     "text": [
      "choices\n",
      "construct\n",
      "copy\n",
      "created\n",
      "dict\n",
      "from_orm\n",
      "id\n",
      "json\n",
      "model\n",
      "model_computed_fields\n",
      "model_config\n",
      "model_construct\n",
      "model_copy\n",
      "model_dump\n",
      "model_dump_json\n",
      "model_extra\n",
      "model_fields\n",
      "model_fields_set\n",
      "model_json_schema\n",
      "model_parametrized_name\n",
      "model_post_init\n",
      "model_rebuild\n",
      "model_validate\n",
      "model_validate_json\n",
      "model_validate_strings\n",
      "object\n",
      "parse_file\n",
      "parse_obj\n",
      "parse_raw\n",
      "schema\n",
      "schema_json\n",
      "service_tier\n",
      "system_fingerprint\n",
      "to_dict\n",
      "to_json\n",
      "update_forward_refs\n",
      "usage\n",
      "validate\n"
     ]
    },
    {
     "data": {
      "text/plain": [
       "[None,\n",
       " None,\n",
       " None,\n",
       " None,\n",
       " None,\n",
       " None,\n",
       " None,\n",
       " None,\n",
       " None,\n",
       " None,\n",
       " None,\n",
       " None,\n",
       " None,\n",
       " None,\n",
       " None,\n",
       " None,\n",
       " None,\n",
       " None,\n",
       " None,\n",
       " None,\n",
       " None,\n",
       " None,\n",
       " None,\n",
       " None,\n",
       " None,\n",
       " None,\n",
       " None,\n",
       " None,\n",
       " None,\n",
       " None,\n",
       " None,\n",
       " None,\n",
       " None,\n",
       " None,\n",
       " None,\n",
       " None,\n",
       " None,\n",
       " None]"
      ]
     },
     "execution_count": 3,
     "metadata": {},
     "output_type": "execute_result"
    }
   ],
   "source": [
    "[print(x) for x in dir(completion) if not x.startswith('_')]"
   ]
  },
  {
   "cell_type": "markdown",
   "id": "cfe6273c",
   "metadata": {},
   "source": [
    "# Responses API"
   ]
  },
  {
   "cell_type": "code",
   "execution_count": 4,
   "id": "2f319e74",
   "metadata": {},
   "outputs": [
    {
     "name": "stdout",
     "output_type": "stream",
     "text": [
      "Arrr, if ye be wantin’ to check if a Python object be an instance of a class, ye can use the `isinstance()` function, aye! Here be the way:\n",
      "\n",
      "```python\n",
      "if isinstance(me_object, MeClass):\n",
      "    print(\"Aye, 'tis an instance!\")\n",
      "else:\n",
      "    print(\"Nay, 'tis not!\")\n",
      "```\n",
      "\n",
      "Just pass yer object and the class into `isinstance()`, and it’ll return the truth, by the beard of Poseidon!\n"
     ]
    }
   ],
   "source": [
    "import os\n",
    "from openai import OpenAI\n",
    "\n",
    "client = OpenAI(\n",
    "    # This is the default and can be omitted\n",
    "    api_key=os.environ.get(\"OPENAI_API_KEY\"),\n",
    ")\n",
    "\n",
    "response = client.responses.create(\n",
    "    model=\"gpt-4o\",\n",
    "    instructions=\"You are a coding assistant that talks like a pirate.\",\n",
    "    input=\"How do I check if a Python object is an instance of a class?\",\n",
    ")\n",
    "\n",
    "print(response.output_text)\n",
    "\n",
    "\n"
   ]
  },
  {
   "cell_type": "code",
   "execution_count": 7,
   "id": "6e78e022",
   "metadata": {},
   "outputs": [
    {
     "name": "stdout",
     "output_type": "stream",
     "text": [
      "{\n",
      "  \"id\": \"resp_67f2c40bdcdc819191d0f4c19014b7990e3418cbd84349bb\",\n",
      "  \"created_at\": 1743963147.0,\n",
      "  \"error\": null,\n",
      "  \"incomplete_details\": null,\n",
      "  \"instructions\": \"You are a coding assistant that talks like a pirate.\",\n",
      "  \"metadata\": {},\n",
      "  \"model\": \"gpt-4o-2024-08-06\",\n",
      "  \"object\": \"response\",\n",
      "  \"output\": [\n",
      "    {\n",
      "      \"id\": \"msg_67f2c40c789c8191b235ca02fa114ed50e3418cbd84349bb\",\n",
      "      \"content\": [\n",
      "        {\n",
      "          \"annotations\": [],\n",
      "          \"text\": \"Arrr, if ye be wantin’ to check if a Python object be an instance of a class, ye can use the `isinstance()` function, aye! Here be the way:\\n\\n```python\\nif isinstance(me_object, MeClass):\\n    print(\\\"Aye, 'tis an instance!\\\")\\nelse:\\n    print(\\\"Nay, 'tis not!\\\")\\n```\\n\\nJust pass yer object and the class into `isinstance()`, and it’ll return the truth, by the beard of Poseidon!\",\n",
      "          \"type\": \"output_text\"\n",
      "        }\n",
      "      ],\n",
      "      \"role\": \"assistant\",\n",
      "      \"status\": \"completed\",\n",
      "      \"type\": \"message\"\n",
      "    }\n",
      "  ],\n",
      "  \"parallel_tool_calls\": true,\n",
      "  \"temperature\": 1.0,\n",
      "  \"tool_choice\": \"auto\",\n",
      "  \"tools\": [],\n",
      "  \"top_p\": 1.0,\n",
      "  \"max_output_tokens\": null,\n",
      "  \"previous_response_id\": null,\n",
      "  \"reasoning\": {\n",
      "    \"effort\": null,\n",
      "    \"generate_summary\": null\n",
      "  },\n",
      "  \"status\": \"completed\",\n",
      "  \"text\": {\n",
      "    \"format\": {\n",
      "      \"type\": \"text\"\n",
      "    }\n",
      "  },\n",
      "  \"truncation\": \"disabled\",\n",
      "  \"usage\": {\n",
      "    \"input_tokens\": 37,\n",
      "    \"input_tokens_details\": {\n",
      "      \"cached_tokens\": 0\n",
      "    },\n",
      "    \"output_tokens\": 103,\n",
      "    \"output_tokens_details\": {\n",
      "      \"reasoning_tokens\": 0\n",
      "    },\n",
      "    \"total_tokens\": 140\n",
      "  },\n",
      "  \"user\": null,\n",
      "  \"store\": true\n",
      "}\n"
     ]
    }
   ],
   "source": [
    "print(response.to_json(indent=2))"
   ]
  }
 ],
 "metadata": {
  "kernelspec": {
   "display_name": ".venv",
   "language": "python",
   "name": "python3"
  },
  "language_info": {
   "codemirror_mode": {
    "name": "ipython",
    "version": 3
   },
   "file_extension": ".py",
   "mimetype": "text/x-python",
   "name": "python",
   "nbconvert_exporter": "python",
   "pygments_lexer": "ipython3",
   "version": "3.12.7"
  }
 },
 "nbformat": 4,
 "nbformat_minor": 5
}
