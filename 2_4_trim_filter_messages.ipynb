{
 "cells": [
  {
   "cell_type": "markdown",
   "metadata": {},
   "source": [
    "# Filtering and trimming messages\n",
    "\n",
    "## Review\n",
    "\n",
    "Now, we have a deeper understanding of a few things:\n",
    "\n",
    "+ How to customize the graph state schema\n",
    "+ How to define custom state reducers\n",
    "+ How to use multiple graph state schemas\n",
    "\n",
    "## Goals\n",
    "\n",
    "Now, we can start using these concepts with models in LangGraph!\n",
    "\n",
    "In the next few sessions, we'll build towards a **chatbot** that has **long-term memory**.\n",
    "\n",
    "Because our chatbot will use messages, let's first talk a bit more about advanced ways to work with messages in graph state."
   ]
  },
  {
   "cell_type": "markdown",
   "metadata": {},
   "source": [
    "## Messages as state\n",
    "\n",
    "First, let's define some messages."
   ]
  },
  {
   "cell_type": "code",
   "execution_count": 1,
   "metadata": {},
   "outputs": [
    {
     "name": "stdout",
     "output_type": "stream",
     "text": [
      "==================================\u001b[1m Ai Message \u001b[0m==================================\n",
      "Name: Bot\n",
      "\n",
      "So you said you were researching ocean mammals?\n",
      "================================\u001b[1m Human Message \u001b[0m=================================\n",
      "Name: Lance\n",
      "\n",
      "Yes, I know about whales. But what others should I learn about?\n"
     ]
    }
   ],
   "source": [
    "from pprint import pprint\n",
    "from langchain_core.messages import AIMessage, HumanMessage\n",
    "\n",
    "messages = [AIMessage(f\"So you said you were researching ocean mammals?\", name=\"Bot\")]\n",
    "messages.append(HumanMessage(f\"Yes, I know about whales. But what others should I learn about?\", name=\"Lance\"))\n",
    "\n",
    "for m in messages:\n",
    "    m.pretty_print()"
   ]
  },
  {
   "cell_type": "markdown",
   "metadata": {},
   "source": [
    "Recall we can pass them to a chat model."
   ]
  },
  {
   "cell_type": "code",
   "execution_count": 2,
   "metadata": {},
   "outputs": [
    {
     "data": {
      "text/plain": [
       "AIMessage(content='In addition to whales, there are several other fascinating ocean mammals you might want to learn about:\\n\\n1. **Dolphins**: Known for their intelligence and playful behavior, dolphins are part of the cetacean family, like whales. There are many species, including the well-known bottlenose dolphin.\\n\\n2. **Porpoises**: Often confused with dolphins, porpoises are smaller and have different physical features, such as a more rounded snout and spade-shaped teeth.\\n\\n3. **Seals**: There are various species of seals, such as the harbor seal and elephant seal. They are pinnipeds, which means they have fin-like limbs.\\n\\n4. **Sea Lions**: Similar to seals, sea lions are also pinnipeds but are generally more social and have external ear flaps, unlike true seals.\\n\\n5. **Walruses**: Recognizable by their long tusks and whiskers, walruses are large marine mammals that inhabit Arctic regions.\\n\\n6. **Manatees and Dugongs**: These are herbivorous marine mammals often referred to as \"sea cows.\" They are slow-moving and are found in warm coastal waters.\\n\\n7. **Sea Otters**: Although they spend a lot of time in the water, sea otters are part of the weasel family. They are known for their use of tools to open shellfish.\\n\\n8. **Polar Bears**: While primarily land animals, polar bears are considered marine mammals because they spend much of their life on the sea ice of the Arctic Ocean.\\n\\nEach of these animals has unique adaptations that allow them to thrive in marine environments, and they all play important roles in their respective ecosystems.', additional_kwargs={'refusal': None}, response_metadata={'token_usage': {'completion_tokens': 344, 'prompt_tokens': 39, 'total_tokens': 383, 'completion_tokens_details': {'accepted_prediction_tokens': 0, 'audio_tokens': 0, 'reasoning_tokens': 0, 'rejected_prediction_tokens': 0}, 'prompt_tokens_details': {'audio_tokens': 0, 'cached_tokens': 0}}, 'model_name': 'gpt-4o-2024-08-06', 'system_fingerprint': 'fp_b7d65f1a5b', 'finish_reason': 'stop', 'logprobs': None}, id='run-55560630-4a19-4f52-881c-bc20bdbe7c0e-0', usage_metadata={'input_tokens': 39, 'output_tokens': 344, 'total_tokens': 383, 'input_token_details': {'audio': 0, 'cache_read': 0}, 'output_token_details': {'audio': 0, 'reasoning': 0}})"
      ]
     },
     "execution_count": 2,
     "metadata": {},
     "output_type": "execute_result"
    }
   ],
   "source": [
    "from langchain_openai import ChatOpenAI\n",
    "\n",
    "llm = ChatOpenAI(model=\"gpt-4o\")\n",
    "llm.invoke(messages)"
   ]
  },
  {
   "cell_type": "markdown",
   "metadata": {},
   "source": [
    "We can run our chat model in a simple graph with `MessagesState`."
   ]
  },
  {
   "cell_type": "code",
   "execution_count": 3,
   "metadata": {},
   "outputs": [
    {
     "data": {
      "image/png": "[encoded data removed]",
      "text/plain": [
       "<IPython.core.display.Image object>"
      ]
     },
     "metadata": {},
     "output_type": "display_data"
    }
   ],
   "source": [
    "from IPython.display import Image, display\n",
    "from langgraph.graph import MessagesState\n",
    "from langgraph.graph import StateGraph, START, END\n",
    "\n",
    "# Node\n",
    "def chat_model_node(state: MessagesState):\n",
    "    return {\"messages\": llm.invoke(state[\"messages\"])}\n",
    "\n",
    "# Build graph\n",
    "builder = StateGraph(MessagesState)\n",
    "builder.add_node(\"chat_model\", chat_model_node)\n",
    "builder.add_edge(START, \"chat_model\")\n",
    "builder.add_edge(\"chat_model\", END)\n",
    "graph = builder.compile()\n",
    "\n",
    "# View\n",
    "display(Image(graph.get_graph().draw_mermaid_png()))"
   ]
  },
  {
   "cell_type": "markdown",
   "metadata": {},
   "source": []
  },
  {
   "cell_type": "code",
   "execution_count": 4,
   "metadata": {},
   "outputs": [
    {
     "name": "stdout",
     "output_type": "stream",
     "text": [
      "==================================\u001b[1m Ai Message \u001b[0m==================================\n",
      "Name: Bot\n",
      "\n",
      "So you said you were researching ocean mammals?\n",
      "================================\u001b[1m Human Message \u001b[0m=================================\n",
      "Name: Lance\n",
      "\n",
      "Yes, I know about whales. But what others should I learn about?\n",
      "==================================\u001b[1m Ai Message \u001b[0m==================================\n",
      "\n",
      "In addition to whales, there are several fascinating ocean mammals you might want to explore:\n",
      "\n",
      "1. **Dolphins**: Known for their intelligence and playful behavior, dolphins are part of the cetacean family, like whales. There are various species of dolphins, such as the bottlenose dolphin and the orca, or killer whale, which is actually the largest member of the dolphin family.\n",
      "\n",
      "2. **Porpoises**: Similar to dolphins but generally smaller and stouter, porpoises are less well-known but equally interesting. They belong to a different family, the Phocoenidae, and are distinguished by their spade-shaped teeth.\n",
      "\n",
      "3. **Seals**: These are pinnipeds and include species like the harbor seal and the elephant seal. They are adapted to life both in the water and on land, often found lounging on beaches or ice floes.\n",
      "\n",
      "4. **Sea Lions**: Another type of pinniped, sea lions are more agile on land compared to seals and are known for their external ear flaps and long front flippers.\n",
      "\n",
      "5. **Walruses**: Recognizable by their long tusks and whiskers, walruses are large pinnipeds that live in the Arctic and sub-Arctic regions.\n",
      "\n",
      "6. **Manatees and Dugongs**: These gentle herbivores are part of the sirenian family. They are often called sea cows and are found in warm coastal waters.\n",
      "\n",
      "7. **Sea Otters**: Although not fully aquatic, sea otters spend much of their lives in the water and are known for their use of tools to open shellfish.\n",
      "\n",
      "8. **Polar Bears**: While primarily land animals, polar bears are considered marine mammals because they spend much of their time on sea ice and rely on the ocean for food.\n",
      "\n",
      "Each of these animals has unique adaptations and behaviors that make them fascinating subjects of study within marine biology.\n"
     ]
    }
   ],
   "source": [
    "output = graph.invoke({'messages': messages})\n",
    "\n",
    "for m in output['messages']:\n",
    "    m.pretty_print()"
   ]
  },
  {
   "cell_type": "markdown",
   "metadata": {},
   "source": [
    "## Reducer\n",
    "\n",
    "A practical challenge when working with messages is managing long-running conversations.\n",
    "\n",
    "Long-running conversations result in high token usage and latency if we are not careful, because we pass a growing list of messages to the model.\n",
    "\n",
    "We have a few ways to address this.\n",
    "\n",
    "First, recall the trick we saw using `RemoveMessage` and the `add_messages` reducer."
   ]
  },
  {
   "cell_type": "code",
   "execution_count": 5,
   "metadata": {},
   "outputs": [
    {
     "data": {
      "image/png": "[encoded data removed]",
      "text/plain": [
       "<IPython.core.display.Image object>"
      ]
     },
     "metadata": {},
     "output_type": "display_data"
    }
   ],
   "source": [
    "from langchain_core.messages import RemoveMessage\n",
    "\n",
    "# Nodes\n",
    "def filter_messages(state: MessagesState):\n",
    "    # Delete all but the 2 most recent messages\n",
    "    delete_messages = [RemoveMessage(id=m.id) for m in state[\"messages\"][:-2]]\n",
    "    return {\"messages\": delete_messages}\n",
    "\n",
    "def chat_model_node(state: MessagesState):    \n",
    "    return {\"messages\": [llm.invoke(state[\"messages\"])]}\n",
    "\n",
    "# Build graph\n",
    "builder = StateGraph(MessagesState)\n",
    "builder.add_node(\"filter\", filter_messages)\n",
    "builder.add_node(\"chat_model\", chat_model_node)\n",
    "builder.add_edge(START, \"filter\")\n",
    "builder.add_edge(\"filter\", \"chat_model\")\n",
    "builder.add_edge(\"chat_model\", END)\n",
    "graph = builder.compile()\n",
    "\n",
    "# View\n",
    "display(Image(graph.get_graph().draw_mermaid_png()))"
   ]
  },
  {
   "cell_type": "code",
   "execution_count": 6,
   "metadata": {},
   "outputs": [
    {
     "name": "stdout",
     "output_type": "stream",
     "text": [
      "==================================\u001b[1m Ai Message \u001b[0m==================================\n",
      "Name: Bot\n",
      "\n",
      "So you said you were researching ocean mammals?\n",
      "================================\u001b[1m Human Message \u001b[0m=================================\n",
      "Name: Lance\n",
      "\n",
      "Yes, I know about whales. But what others should I learn about?\n",
      "==================================\u001b[1m Ai Message \u001b[0m==================================\n",
      "\n",
      "There are many fascinating ocean mammals to explore beyond whales! Here are a few you might find interesting:\n",
      "\n",
      "1. **Dolphins**: Known for their intelligence and playful behavior, dolphins are highly social animals often found in pods. There are many species, including the bottlenose dolphin and the orca, or killer whale, which is actually the largest member of the dolphin family.\n",
      "\n",
      "2. **Porpoises**: Similar to dolphins but generally smaller and stouter, porpoises are another group of toothed whales. They are less social than dolphins and have different-shaped teeth and dorsal fins.\n",
      "\n",
      "3. **Seals**: These are pinnipeds, marine mammals with flippers. There are many species, like the harbor seal and the gray seal, each with unique adaptations to their environments.\n",
      "\n",
      "4. **Sea Lions**: Also pinnipeds, sea lions differ from seals in having external ear flaps and larger flippers, which allow them to \"walk\" on land.\n",
      "\n",
      "5. **Walruses**: Known for their distinctive tusks, walruses are large pinnipeds that live in the Arctic and sub-Arctic regions. They are social animals and are often seen in large herds.\n",
      "\n",
      "6. **Manatees and Dugongs**: Often called sea cows, these gentle giants are herbivorous and spend their days grazing on seagrass. Manatees are found in the Atlantic Ocean, while dugongs inhabit the Indo-Pacific region.\n",
      "\n",
      "7. **Sea Otters**: Although not as fully aquatic as some other marine mammals, sea otters are noteworthy for their role in maintaining kelp forest ecosystems. They are known for using tools to open shellfish.\n",
      "\n",
      "8. **Polar Bears**: While primarily land mammals, polar bears are excellent swimmers and depend on the ocean for hunting seals, their primary food source.\n",
      "\n",
      "Each of these marine mammals has unique behaviors, adaptations, and ecological roles, making them fascinating subjects for study.\n"
     ]
    }
   ],
   "source": [
    "# Message list with a preamble\n",
    "messages = [AIMessage(\"Hi.\", name=\"Bot\", id=\"1\")]\n",
    "messages.append(HumanMessage(\"Hi.\", name=\"Lance\", id=\"2\"))\n",
    "messages.append(AIMessage(\"So you said you were researching ocean mammals?\", name=\"Bot\", id=\"3\"))\n",
    "messages.append(HumanMessage(\"Yes, I know about whales. But what others should I learn about?\", name=\"Lance\", id=\"4\"))\n",
    "\n",
    "# Invoke\n",
    "output = graph.invoke({'messages': messages})\n",
    "\n",
    "for m in output['messages']:\n",
    "    m.pretty_print()"
   ]
  },
  {
   "cell_type": "markdown",
   "metadata": {},
   "source": [
    "## Filtering messages\n",
    "\n",
    "If you don't need or want to modify the graph state, you can just filter the messages you pass to the chat model.\n",
    "\n",
    "For example, just pass in a filtered list: `llm.invoke(messages[-1:])` to the model."
   ]
  },
  {
   "cell_type": "code",
   "execution_count": 7,
   "metadata": {},
   "outputs": [
    {
     "data": {
      "image/png": "[encoded data removed]",
      "text/plain": [
       "<IPython.core.display.Image object>"
      ]
     },
     "metadata": {},
     "output_type": "display_data"
    }
   ],
   "source": [
    "# Node\n",
    "def chat_model_node(state: MessagesState):\n",
    "    return {\"messages\": [llm.invoke(state[\"messages\"][-1:])]}\n",
    "\n",
    "# Build graph\n",
    "builder = StateGraph(MessagesState)\n",
    "builder.add_node(\"chat_model\", chat_model_node)\n",
    "builder.add_edge(START, \"chat_model\")\n",
    "builder.add_edge(\"chat_model\", END)\n",
    "graph = builder.compile()\n",
    "\n",
    "# View\n",
    "display(Image(graph.get_graph().draw_mermaid_png()))"
   ]
  },
  {
   "cell_type": "code",
   "execution_count": 8,
   "metadata": {},
   "outputs": [],
   "source": [
    "messages.append(output['messages'][-1])\n",
    "messages.append(HumanMessage(f\"Tell me more about Narwhals!\", name=\"Lance\"))"
   ]
  },
  {
   "cell_type": "code",
   "execution_count": 9,
   "metadata": {},
   "outputs": [
    {
     "name": "stdout",
     "output_type": "stream",
     "text": [
      "==================================\u001b[1m Ai Message \u001b[0m==================================\n",
      "Name: Bot\n",
      "\n",
      "Hi.\n",
      "================================\u001b[1m Human Message \u001b[0m=================================\n",
      "Name: Lance\n",
      "\n",
      "Hi.\n",
      "==================================\u001b[1m Ai Message \u001b[0m==================================\n",
      "Name: Bot\n",
      "\n",
      "So you said you were researching ocean mammals?\n",
      "================================\u001b[1m Human Message \u001b[0m=================================\n",
      "Name: Lance\n",
      "\n",
      "Yes, I know about whales. But what others should I learn about?\n",
      "==================================\u001b[1m Ai Message \u001b[0m==================================\n",
      "\n",
      "There are many fascinating ocean mammals to explore beyond whales! Here are a few you might find interesting:\n",
      "\n",
      "1. **Dolphins**: Known for their intelligence and playful behavior, dolphins are highly social animals often found in pods. There are many species, including the bottlenose dolphin and the orca, or killer whale, which is actually the largest member of the dolphin family.\n",
      "\n",
      "2. **Porpoises**: Similar to dolphins but generally smaller and stouter, porpoises are another group of toothed whales. They are less social than dolphins and have different-shaped teeth and dorsal fins.\n",
      "\n",
      "3. **Seals**: These are pinnipeds, marine mammals with flippers. There are many species, like the harbor seal and the gray seal, each with unique adaptations to their environments.\n",
      "\n",
      "4. **Sea Lions**: Also pinnipeds, sea lions differ from seals in having external ear flaps and larger flippers, which allow them to \"walk\" on land.\n",
      "\n",
      "5. **Walruses**: Known for their distinctive tusks, walruses are large pinnipeds that live in the Arctic and sub-Arctic regions. They are social animals and are often seen in large herds.\n",
      "\n",
      "6. **Manatees and Dugongs**: Often called sea cows, these gentle giants are herbivorous and spend their days grazing on seagrass. Manatees are found in the Atlantic Ocean, while dugongs inhabit the Indo-Pacific region.\n",
      "\n",
      "7. **Sea Otters**: Although not as fully aquatic as some other marine mammals, sea otters are noteworthy for their role in maintaining kelp forest ecosystems. They are known for using tools to open shellfish.\n",
      "\n",
      "8. **Polar Bears**: While primarily land mammals, polar bears are excellent swimmers and depend on the ocean for hunting seals, their primary food source.\n",
      "\n",
      "Each of these marine mammals has unique behaviors, adaptations, and ecological roles, making them fascinating subjects for study.\n",
      "================================\u001b[1m Human Message \u001b[0m=================================\n",
      "Name: Lance\n",
      "\n",
      "Tell me more about Narwhals!\n"
     ]
    }
   ],
   "source": [
    "for m in messages:\n",
    "    m.pretty_print()"
   ]
  },
  {
   "cell_type": "code",
   "execution_count": 10,
   "metadata": {},
   "outputs": [
    {
     "name": "stdout",
     "output_type": "stream",
     "text": [
      "==================================\u001b[1m Ai Message \u001b[0m==================================\n",
      "Name: Bot\n",
      "\n",
      "Hi.\n",
      "================================\u001b[1m Human Message \u001b[0m=================================\n",
      "Name: Lance\n",
      "\n",
      "Hi.\n",
      "==================================\u001b[1m Ai Message \u001b[0m==================================\n",
      "Name: Bot\n",
      "\n",
      "So you said you were researching ocean mammals?\n",
      "================================\u001b[1m Human Message \u001b[0m=================================\n",
      "Name: Lance\n",
      "\n",
      "Yes, I know about whales. But what others should I learn about?\n",
      "==================================\u001b[1m Ai Message \u001b[0m==================================\n",
      "\n",
      "There are many fascinating ocean mammals to explore beyond whales! Here are a few you might find interesting:\n",
      "\n",
      "1. **Dolphins**: Known for their intelligence and playful behavior, dolphins are highly social animals often found in pods. There are many species, including the bottlenose dolphin and the orca, or killer whale, which is actually the largest member of the dolphin family.\n",
      "\n",
      "2. **Porpoises**: Similar to dolphins but generally smaller and stouter, porpoises are another group of toothed whales. They are less social than dolphins and have different-shaped teeth and dorsal fins.\n",
      "\n",
      "3. **Seals**: These are pinnipeds, marine mammals with flippers. There are many species, like the harbor seal and the gray seal, each with unique adaptations to their environments.\n",
      "\n",
      "4. **Sea Lions**: Also pinnipeds, sea lions differ from seals in having external ear flaps and larger flippers, which allow them to \"walk\" on land.\n",
      "\n",
      "5. **Walruses**: Known for their distinctive tusks, walruses are large pinnipeds that live in the Arctic and sub-Arctic regions. They are social animals and are often seen in large herds.\n",
      "\n",
      "6. **Manatees and Dugongs**: Often called sea cows, these gentle giants are herbivorous and spend their days grazing on seagrass. Manatees are found in the Atlantic Ocean, while dugongs inhabit the Indo-Pacific region.\n",
      "\n",
      "7. **Sea Otters**: Although not as fully aquatic as some other marine mammals, sea otters are noteworthy for their role in maintaining kelp forest ecosystems. They are known for using tools to open shellfish.\n",
      "\n",
      "8. **Polar Bears**: While primarily land mammals, polar bears are excellent swimmers and depend on the ocean for hunting seals, their primary food source.\n",
      "\n",
      "Each of these marine mammals has unique behaviors, adaptations, and ecological roles, making them fascinating subjects for study.\n",
      "================================\u001b[1m Human Message \u001b[0m=================================\n",
      "Name: Lance\n",
      "\n",
      "Tell me more about Narwhals!\n",
      "==================================\u001b[1m Ai Message \u001b[0m==================================\n",
      "\n",
      "Narwhals, known scientifically as *Monodon monoceros*, are fascinating marine mammals that belong to the cetacean family, which includes whales, dolphins, and porpoises. Here are some key points about narwhals:\n",
      "\n",
      "1. **Habitat**: Narwhals are primarily found in Arctic waters around Greenland, Canada, and Russia. They tend to inhabit deep waters and are known for their seasonal migrations, moving closer to shore in summer and heading to deeper waters in winter.\n",
      "\n",
      "2. **Physical Characteristics**: Narwhals are most famous for their long, spiral tusk, which is actually an elongated upper left canine tooth. The tusk can grow up to 10 feet (3 meters) long and is more commonly found in males, although some females can also develop a smaller tusk.\n",
      "\n",
      "3. **Diet**: Their diet mainly consists of fish, squid, and shrimp. Narwhals dive deep to hunt, often reaching depths of around 1,500 meters (4,900 feet) and can hold their breath for up to 25 minutes.\n",
      "\n",
      "4. **Social Structure**: Narwhals are social animals and often travel in groups called pods, which can range from a few individuals to several dozen. These pods can sometimes come together to form larger aggregations during seasonal migrations.\n",
      "\n",
      "5. **Reproduction**: Female narwhals usually give birth to a single calf every three years after a gestation period of around 14 months. Calves are typically born in the summer months and are nursed for over a year.\n",
      "\n",
      "6. **Conservation Status**: Narwhals are currently classified as \"Near Threatened\" by the International Union for Conservation of Nature (IUCN). They face threats from climate change, habitat loss due to melting ice, and increased human activities in the Arctic, such as shipping and oil exploration.\n",
      "\n",
      "7. **Cultural Significance**: Narwhals have long been part of Inuit culture and folklore. Indigenous peoples have traditionally hunted narwhals for their tusks, meat, and blubber, which play important roles in their diet and culture.\n",
      "\n",
      "8. **Tusk Function**: While the exact function of the narwhal's tusk is not fully understood, it is believed to play a role in mating rituals, dominance displays, and possibly sensory functions. The tusk is highly sensitive and contains millions of nerve endings.\n",
      "\n",
      "Narwhals are often referred to as the \"unicorns of the sea\" due to their unique appearance. They continue to captivate scientists and the public alike with their mysterious tusks and elusive nature.\n"
     ]
    }
   ],
   "source": [
    "# Invoke, using message filtering\n",
    "output = graph.invoke({'messages': messages})\n",
    "\n",
    "for m in output['messages']:\n",
    "    m.pretty_print()"
   ]
  },
  {
   "cell_type": "markdown",
   "metadata": {},
   "source": [
    "## Trim messages\n",
    "\n",
    "Another approach is to trim messages, based upon a set number of tokens.\n",
    "\n",
    "This restricts the message history to a specified number of tokens.\n",
    "\n",
    "While filtering only returns a post-hoc subset of the messages between agents, trimming restricts the number of tokens that a chat model can use to respond.\n",
    "\n",
    "See the `trim_messages` below."
   ]
  },
  {
   "cell_type": "code",
   "execution_count": 20,
   "metadata": {},
   "outputs": [
    {
     "data": {
      "image/png": "[encoded data removed]",
      "text/plain": [
       "<IPython.core.display.Image object>"
      ]
     },
     "metadata": {},
     "output_type": "display_data"
    }
   ],
   "source": [
    "from langchain_core.messages import trim_messages\n",
    "\n",
    "# Node\n",
    "def chat_model_node(state: MessagesState):\n",
    "    messages = trim_messages(\n",
    "            state[\"messages\"],\n",
    "            max_tokens=100,\n",
    "            strategy=\"last\",\n",
    "            token_counter=ChatOpenAI(model=\"gpt-4o\"),\n",
    "            allow_partial=False,\n",
    "        )\n",
    "    return {\"messages\": [llm.invoke(messages)]}\n",
    "\n",
    "# Build graph\n",
    "builder = StateGraph(MessagesState)\n",
    "builder.add_node(\"chat_model\", chat_model_node)\n",
    "builder.add_edge(START, \"chat_model\")\n",
    "builder.add_edge(\"chat_model\", END)\n",
    "graph = builder.compile()\n",
    "\n",
    "# View\n",
    "display(Image(graph.get_graph().draw_mermaid_png()))"
   ]
  },
  {
   "cell_type": "code",
   "execution_count": 12,
   "metadata": {},
   "outputs": [],
   "source": [
    "messages.append(output['messages'][-1])\n",
    "messages.append(HumanMessage(f\"Tell me where Orcas live!\", name=\"Lance\"))"
   ]
  },
  {
   "cell_type": "code",
   "execution_count": 21,
   "metadata": {},
   "outputs": [
    {
     "data": {
      "text/plain": [
       "[HumanMessage(content='Tell me where Orcas live!', additional_kwargs={}, response_metadata={}, name='Lance', id='e86e7303-f609-484d-b1ec-8af7d6784125')]"
      ]
     },
     "execution_count": 21,
     "metadata": {},
     "output_type": "execute_result"
    }
   ],
   "source": [
    "# Example of trimming messages\n",
    "trim_messages(\n",
    "            messages,\n",
    "            max_tokens=100,\n",
    "            strategy=\"last\",\n",
    "            token_counter=ChatOpenAI(model=\"gpt-4o\"),\n",
    "            allow_partial=False\n",
    "        )"
   ]
  },
  {
   "cell_type": "code",
   "execution_count": 24,
   "metadata": {},
   "outputs": [],
   "source": [
    "# Invoke, using message trimming in the chat_model_node \n",
    "messages_out_trim = graph.invoke({'messages': messages})"
   ]
  },
  {
   "cell_type": "code",
   "execution_count": 23,
   "metadata": {},
   "outputs": [
    {
     "name": "stdout",
     "output_type": "stream",
     "text": [
      "==================================\u001b[1m Ai Message \u001b[0m==================================\n",
      "Name: Bot\n",
      "\n",
      "Hi.\n",
      "================================\u001b[1m Human Message \u001b[0m=================================\n",
      "Name: Lance\n",
      "\n",
      "Hi.\n",
      "==================================\u001b[1m Ai Message \u001b[0m==================================\n",
      "Name: Bot\n",
      "\n",
      "So you said you were researching ocean mammals?\n",
      "================================\u001b[1m Human Message \u001b[0m=================================\n",
      "Name: Lance\n",
      "\n",
      "Yes, I know about whales. But what others should I learn about?\n",
      "==================================\u001b[1m Ai Message \u001b[0m==================================\n",
      "\n",
      "There are many fascinating ocean mammals to explore beyond whales! Here are a few you might find interesting:\n",
      "\n",
      "1. **Dolphins**: Known for their intelligence and playful behavior, dolphins are highly social animals often found in pods. There are many species, including the bottlenose dolphin and the orca, or killer whale, which is actually the largest member of the dolphin family.\n",
      "\n",
      "2. **Porpoises**: Similar to dolphins but generally smaller and stouter, porpoises are another group of toothed whales. They are less social than dolphins and have different-shaped teeth and dorsal fins.\n",
      "\n",
      "3. **Seals**: These are pinnipeds, marine mammals with flippers. There are many species, like the harbor seal and the gray seal, each with unique adaptations to their environments.\n",
      "\n",
      "4. **Sea Lions**: Also pinnipeds, sea lions differ from seals in having external ear flaps and larger flippers, which allow them to \"walk\" on land.\n",
      "\n",
      "5. **Walruses**: Known for their distinctive tusks, walruses are large pinnipeds that live in the Arctic and sub-Arctic regions. They are social animals and are often seen in large herds.\n",
      "\n",
      "6. **Manatees and Dugongs**: Often called sea cows, these gentle giants are herbivorous and spend their days grazing on seagrass. Manatees are found in the Atlantic Ocean, while dugongs inhabit the Indo-Pacific region.\n",
      "\n",
      "7. **Sea Otters**: Although not as fully aquatic as some other marine mammals, sea otters are noteworthy for their role in maintaining kelp forest ecosystems. They are known for using tools to open shellfish.\n",
      "\n",
      "8. **Polar Bears**: While primarily land mammals, polar bears are excellent swimmers and depend on the ocean for hunting seals, their primary food source.\n",
      "\n",
      "Each of these marine mammals has unique behaviors, adaptations, and ecological roles, making them fascinating subjects for study.\n",
      "================================\u001b[1m Human Message \u001b[0m=================================\n",
      "Name: Lance\n",
      "\n",
      "Tell me more about Narwhals!\n",
      "==================================\u001b[1m Ai Message \u001b[0m==================================\n",
      "\n",
      "Narwhals, known scientifically as *Monodon monoceros*, are fascinating marine mammals that belong to the cetacean family, which includes whales, dolphins, and porpoises. Here are some key points about narwhals:\n",
      "\n",
      "1. **Habitat**: Narwhals are primarily found in Arctic waters around Greenland, Canada, and Russia. They tend to inhabit deep waters and are known for their seasonal migrations, moving closer to shore in summer and heading to deeper waters in winter.\n",
      "\n",
      "2. **Physical Characteristics**: Narwhals are most famous for their long, spiral tusk, which is actually an elongated upper left canine tooth. The tusk can grow up to 10 feet (3 meters) long and is more commonly found in males, although some females can also develop a smaller tusk.\n",
      "\n",
      "3. **Diet**: Their diet mainly consists of fish, squid, and shrimp. Narwhals dive deep to hunt, often reaching depths of around 1,500 meters (4,900 feet) and can hold their breath for up to 25 minutes.\n",
      "\n",
      "4. **Social Structure**: Narwhals are social animals and often travel in groups called pods, which can range from a few individuals to several dozen. These pods can sometimes come together to form larger aggregations during seasonal migrations.\n",
      "\n",
      "5. **Reproduction**: Female narwhals usually give birth to a single calf every three years after a gestation period of around 14 months. Calves are typically born in the summer months and are nursed for over a year.\n",
      "\n",
      "6. **Conservation Status**: Narwhals are currently classified as \"Near Threatened\" by the International Union for Conservation of Nature (IUCN). They face threats from climate change, habitat loss due to melting ice, and increased human activities in the Arctic, such as shipping and oil exploration.\n",
      "\n",
      "7. **Cultural Significance**: Narwhals have long been part of Inuit culture and folklore. Indigenous peoples have traditionally hunted narwhals for their tusks, meat, and blubber, which play important roles in their diet and culture.\n",
      "\n",
      "8. **Tusk Function**: While the exact function of the narwhal's tusk is not fully understood, it is believed to play a role in mating rituals, dominance displays, and possibly sensory functions. The tusk is highly sensitive and contains millions of nerve endings.\n",
      "\n",
      "Narwhals are often referred to as the \"unicorns of the sea\" due to their unique appearance. They continue to captivate scientists and the public alike with their mysterious tusks and elusive nature.\n",
      "================================\u001b[1m Human Message \u001b[0m=================================\n",
      "Name: Lance\n",
      "\n",
      "Tell me where Orcas live!\n",
      "==================================\u001b[1m Ai Message \u001b[0m==================================\n",
      "\n",
      "Orcas, also known as killer whales, are found in all of the world's oceans, from the polar regions to the equator. They have a wide distribution and inhabit a variety of marine environments, including:\n",
      "\n",
      "1. **Arctic and Antarctic Regions**: Orcas are commonly found in the cold waters around the Arctic and Antarctic, where they hunt seals, fish, and other marine mammals.\n",
      "\n",
      "2. **Temperate Coastal Areas**: They are prevalent in coastal waters of the Pacific Northwest (U.S. and Canada), Norway, and Patagonia, where they often prey on fish like salmon and marine mammals.\n",
      "\n",
      "3. **Tropical and Subtropical Oceans**: While less common, orcas can also be found in warmer waters, including the Caribbean and the Mediterranean Sea.\n",
      "\n",
      "4. **Open Ocean (Pelagic Zones)**: Some populations of orcas are oceanic and travel long distances in the open sea, hunting for squid and large fish.\n",
      "\n",
      "Orcas are highly adaptable and their presence in a particular region often depends on the availability of prey and environmental conditions. They are known for their complex social structures and diverse hunting strategies, which can vary significantly between different populations.\n"
     ]
    }
   ],
   "source": [
    "for m in messages_out_trim['messages']:\n",
    "    m.pretty_print()"
   ]
  }
 ],
 "metadata": {
  "kernelspec": {
   "display_name": ".venv",
   "language": "python",
   "name": "python3"
  },
  "language_info": {
   "codemirror_mode": {
    "name": "ipython",
    "version": 3
   },
   "file_extension": ".py",
   "mimetype": "text/x-python",
   "name": "python",
   "nbconvert_exporter": "python",
   "pygments_lexer": "ipython3",
   "version": "3.12.7"
  }
 },
 "nbformat": 4,
 "nbformat_minor": 2
}
