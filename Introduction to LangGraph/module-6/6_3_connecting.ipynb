{
 "cells": [
  {
   "cell_type": "code",
   "execution_count": 1,
   "metadata": {},
   "outputs": [],
   "source": [
    "from langgraph_sdk import get_client\n",
    "\n",
    "# Connect via SDK\n",
    "url_for_cli_deployment = \"http://localhost:8123\"\n",
    "client = get_client(url=url_for_cli_deployment)"
   ]
  },
  {
   "cell_type": "code",
   "execution_count": 2,
   "metadata": {},
   "outputs": [],
   "source": [
    "from langgraph.pregel.remote import RemoteGraph\n",
    "from langchain_core.messages import convert_to_messages\n",
    "from langchain_core.messages import HumanMessage, SystemMessage\n",
    "\n",
    "# Connect via remote graph\n",
    "url = \"http://localhost:8123\"\n",
    "graph_name = \"task_maistro\" \n",
    "remote_graph = RemoteGraph(graph_name, url=url)"
   ]
  },
  {
   "cell_type": "code",
   "execution_count": 5,
   "metadata": {},
   "outputs": [
    {
     "data": {
      "text/plain": [
       "{'thread_id': '643c952d-8b54-4b96-9b66-a619cd8bda7c',\n",
       " 'created_at': '2025-02-03T20:09:43.760754+00:00',\n",
       " 'updated_at': '2025-02-03T20:09:43.760754+00:00',\n",
       " 'metadata': {},\n",
       " 'status': 'idle',\n",
       " 'config': {},\n",
       " 'values': None,\n",
       " 'interrupts': {}}"
      ]
     },
     "execution_count": 5,
     "metadata": {},
     "output_type": "execute_result"
    }
   ],
   "source": [
    "# Create a thread\n",
    "thread = await client.threads.create()\n",
    "thread"
   ]
  },
  {
   "cell_type": "code",
   "execution_count": 6,
   "metadata": {},
   "outputs": [],
   "source": [
    "# Ensure we've created some ToDos and saved them to my user_id\n",
    "user_input = \"Add a ToDo to finish booking travel to Hong Kong by end of next week. Also, add a ToDo to call parents back about Thanksgiving plans.\"\n",
    "config = {\"configurable\": {\"user_id\": \"Test\"}}\n",
    "graph_name = \"task_maistro\" \n",
    "run = await client.runs.create(thread[\"thread_id\"], graph_name, input={\"messages\": [HumanMessage(content=user_input)]}, config=config)"
   ]
  },
  {
   "cell_type": "code",
   "execution_count": 7,
   "metadata": {},
   "outputs": [],
   "source": [
    "# Kick off a new thread and a new run\n",
    "thread = await client.threads.create()\n",
    "user_input = \"Give me a summary of all ToDos.\"\n",
    "config = {\"configurable\": {\"user_id\": \"Test\"}}\n",
    "graph_name = \"task_maistro\" \n",
    "run = await client.runs.create(thread[\"thread_id\"], graph_name, input={\"messages\": [HumanMessage(content=user_input)]}, config=config)"
   ]
  },
  {
   "cell_type": "code",
   "execution_count": 8,
   "metadata": {},
   "outputs": [
    {
     "name": "stdout",
     "output_type": "stream",
     "text": [
      "{'run_id': '1efe26ae-4036-6a59-b77e-003811ea8d47', 'thread_id': '42900ecc-d37c-4d45-8a53-9c35f3d5de19', 'assistant_id': 'ea4ebafa-a81d-5063-a5fa-67c755d98a21', 'created_at': '2025-02-03T20:10:19.163044+00:00', 'updated_at': '2025-02-03T20:10:19.163044+00:00', 'metadata': {'assistant_id': 'ea4ebafa-a81d-5063-a5fa-67c755d98a21'}, 'status': 'success', 'kwargs': {'input': {'messages': [{'id': None, 'name': None, 'type': 'human', 'content': 'Give me a summary of all ToDos.', 'example': False, 'additional_kwargs': {}, 'response_metadata': {}}]}, 'config': {'metadata': {'created_by': 'system', 'assistant_id': 'ea4ebafa-a81d-5063-a5fa-67c755d98a21'}, 'configurable': {'run_id': '1efe26ae-4036-6a59-b77e-003811ea8d47', 'user_id': 'Test', 'graph_id': 'task_maistro', 'thread_id': '42900ecc-d37c-4d45-8a53-9c35f3d5de19', 'assistant_id': 'ea4ebafa-a81d-5063-a5fa-67c755d98a21', 'langgraph_auth_user': None, 'langgraph_auth_user_id': '', 'langgraph_auth_permissions': []}}, 'command': None, 'webhook': None, 'subgraphs': False, 'temporary': False, 'stream_mode': ['values'], 'feedback_keys': None, 'interrupt_after': None, 'interrupt_before': None}, 'multitask_strategy': 'reject'}\n"
     ]
    }
   ],
   "source": [
    "\n",
    "# Check the run status\n",
    "print(await client.runs.get(thread[\"thread_id\"], run[\"run_id\"]))"
   ]
  },
  {
   "cell_type": "code",
   "execution_count": 9,
   "metadata": {},
   "outputs": [
    {
     "name": "stdout",
     "output_type": "stream",
     "text": [
      "{'run_id': '1efe26ae-4036-6a59-b77e-003811ea8d47', 'thread_id': '42900ecc-d37c-4d45-8a53-9c35f3d5de19', 'assistant_id': 'ea4ebafa-a81d-5063-a5fa-67c755d98a21', 'created_at': '2025-02-03T20:10:19.163044+00:00', 'updated_at': '2025-02-03T20:10:19.163044+00:00', 'metadata': {'assistant_id': 'ea4ebafa-a81d-5063-a5fa-67c755d98a21'}, 'status': 'success', 'kwargs': {'input': {'messages': [{'id': None, 'name': None, 'type': 'human', 'content': 'Give me a summary of all ToDos.', 'example': False, 'additional_kwargs': {}, 'response_metadata': {}}]}, 'config': {'metadata': {'created_by': 'system', 'assistant_id': 'ea4ebafa-a81d-5063-a5fa-67c755d98a21'}, 'configurable': {'run_id': '1efe26ae-4036-6a59-b77e-003811ea8d47', 'user_id': 'Test', 'graph_id': 'task_maistro', 'thread_id': '42900ecc-d37c-4d45-8a53-9c35f3d5de19', 'assistant_id': 'ea4ebafa-a81d-5063-a5fa-67c755d98a21', 'langgraph_auth_user': None, 'langgraph_auth_user_id': '', 'langgraph_auth_permissions': []}}, 'command': None, 'webhook': None, 'subgraphs': False, 'temporary': False, 'stream_mode': ['values'], 'feedback_keys': None, 'interrupt_after': None, 'interrupt_before': None}, 'multitask_strategy': 'reject'}\n"
     ]
    }
   ],
   "source": [
    "# Wait until the run completes\n",
    "await client.runs.join(thread[\"thread_id\"], run[\"run_id\"])\n",
    "print(await client.runs.get(thread[\"thread_id\"], run[\"run_id\"]))"
   ]
  },
  {
   "cell_type": "code",
   "execution_count": 10,
   "metadata": {},
   "outputs": [
    {
     "name": "stdout",
     "output_type": "stream",
     "text": [
      "You should focus on \"Call parents back about Thanksgiving plans\" first. It doesn't have a specific deadline, but it's a shorter task with an estimated time to complete of just 15 minutes. Plus, it's always good to finalize plans with family early!"
     ]
    }
   ],
   "source": [
    "user_input = \"What ToDo should I focus on first.\"\n",
    "async for chunk in client.runs.stream(thread[\"thread_id\"], \n",
    "                                      graph_name, \n",
    "                                      input={\"messages\": [HumanMessage(content=user_input)]},\n",
    "                                      config=config,\n",
    "                                      stream_mode=\"messages-tuple\"):\n",
    "\n",
    "    if chunk.event == \"messages\":\n",
    "        print(\"\".join(data_item['content'] for data_item in chunk.data if 'content' in data_item), end=\"\", flush=True)"
   ]
  },
  {
   "cell_type": "code",
   "execution_count": 11,
   "metadata": {},
   "outputs": [
    {
     "name": "stdout",
     "output_type": "stream",
     "text": [
      "================================\u001b[1m Human Message \u001b[0m=================================\n",
      "\n",
      "Give me a summary of all ToDos.\n",
      "==================================\u001b[1m Ai Message \u001b[0m==================================\n",
      "\n",
      "Here's a summary of your current ToDo list:\n",
      "\n",
      "1. **Task**: Finish booking travel to Hong Kong\n",
      "   - **Status**: Not started\n",
      "   - **Deadline**: February 14, 2025\n",
      "   - **Solutions**:\n",
      "     - Check flight prices on Skyscanner\n",
      "     - Book hotel through Booking.com\n",
      "     - Arrange airport transfer\n",
      "   - **Estimated Time to Complete**: 120 minutes\n",
      "\n",
      "If you need any updates or changes, feel free to let me know!\n",
      "================================\u001b[1m Human Message \u001b[0m=================================\n",
      "\n",
      "What ToDo should I focus on first.\n",
      "==================================\u001b[1m Ai Message \u001b[0m==================================\n",
      "\n",
      "You should focus on \"Call parents back about Thanksgiving plans\" first. It doesn't have a specific deadline, but it's a shorter task with an estimated time to complete of just 15 minutes. Plus, it's always good to finalize plans with family early!\n"
     ]
    }
   ],
   "source": [
    "thread_state = await client.threads.get_state(thread['thread_id'])\n",
    "for m in convert_to_messages(thread_state['values']['messages']):\n",
    "    m.pretty_print()"
   ]
  }
 ],
 "metadata": {
  "kernelspec": {
   "display_name": ".venv",
   "language": "python",
   "name": "python3"
  },
  "language_info": {
   "codemirror_mode": {
    "name": "ipython",
    "version": 3
   },
   "file_extension": ".py",
   "mimetype": "text/x-python",
   "name": "python",
   "nbconvert_exporter": "python",
   "pygments_lexer": "ipython3",
   "version": "3.12.7"
  }
 },
 "nbformat": 4,
 "nbformat_minor": 2
}
