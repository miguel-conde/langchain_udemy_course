{
 "cells": [
  {
   "cell_type": "markdown",
   "metadata": {},
   "source": [
    "[Build an agent](https://python.langchain.com/docs/tutorials/agents/)"
   ]
  },
  {
   "cell_type": "markdown",
   "metadata": {},
   "source": [
    "# End to end agent"
   ]
  },
  {
   "cell_type": "code",
   "execution_count": 1,
   "metadata": {},
   "outputs": [],
   "source": [
    "# Import relevant functionality\n",
    "# from langchain_anthropic import ChatAnthropic\n",
    "from langchain_openai import ChatOpenAI\n",
    "from langchain_community.tools.tavily_search import TavilySearchResults\n",
    "from langchain_core.messages import HumanMessage\n",
    "from langgraph.checkpoint.memory import MemorySaver\n",
    "from langgraph.prebuilt import create_react_agent\n",
    "\n",
    "# Create the agent\n",
    "memory = MemorySaver()\n",
    "# model = ChatAnthropic(model_name=\"claude-3-sonnet-20240229\")\n",
    "model = ChatOpenAI(model_name=\"gpt-4o-mini\")\n",
    "search = TavilySearchResults(max_results=2)\n",
    "tools = [search]\n",
    "agent_executor = create_react_agent(model, tools, checkpointer=memory)"
   ]
  },
  {
   "cell_type": "code",
   "execution_count": 2,
   "metadata": {},
   "outputs": [
    {
     "name": "stdout",
     "output_type": "stream",
     "text": [
      "================================\u001b[1m Human Message \u001b[0m=================================\n",
      "\n",
      "hi im bob! and i live in madrid, spain\n",
      "==================================\u001b[1m Ai Message \u001b[0m==================================\n",
      "\n",
      "Hi Bob! It's great to meet you. How can I assist you today?\n"
     ]
    }
   ],
   "source": [
    "# Use the agent\n",
    "config = {\"configurable\": {\"thread_id\": \"abc123\"}}\n",
    "for step in agent_executor.stream(\n",
    "    {\"messages\": [HumanMessage(content=\"hi im bob! and i live in madrid, spain\")]},\n",
    "    config,\n",
    "    stream_mode=\"values\",\n",
    "):\n",
    "    step[\"messages\"][-1].pretty_print()"
   ]
  },
  {
   "cell_type": "code",
   "execution_count": 3,
   "metadata": {},
   "outputs": [
    {
     "name": "stdout",
     "output_type": "stream",
     "text": [
      "================================\u001b[1m Human Message \u001b[0m=================================\n",
      "\n",
      "whats the weather where I live?\n",
      "==================================\u001b[1m Ai Message \u001b[0m==================================\n",
      "Tool Calls:\n",
      "  tavily_search_results_json (call_efbP0Ou7p3IeFunidiT9rLS4)\n",
      " Call ID: call_efbP0Ou7p3IeFunidiT9rLS4\n",
      "  Args:\n",
      "    query: Madrid Spain weather\n",
      "=================================\u001b[1m Tool Message \u001b[0m=================================\n",
      "Name: tavily_search_results_json\n",
      "\n",
      "[{\"url\": \"https://www.weatherapi.com/\", \"content\": \"{'location': {'name': 'Madrid', 'region': 'Madrid', 'country': 'Spain', 'lat': 40.4, 'lon': -3.6833, 'tz_id': 'Europe/Madrid', 'localtime_epoch': 1741546972, 'localtime': '2025-03-09 20:02'}, 'current': {'last_updated_epoch': 1741546800, 'last_updated': '2025-03-09 20:00', 'temp_c': 7.4, 'temp_f': 45.3, 'is_day': 0, 'condition': {'text': 'Moderate rain', 'icon': '//cdn.weatherapi.com/weather/64x64/night/302.png', 'code': 1189}, 'wind_mph': 2.2, 'wind_kph': 3.6, 'wind_degree': 327, 'wind_dir': 'NNW', 'pressure_mb': 1000.0, 'pressure_in': 29.53, 'precip_mm': 0.19, 'precip_in': 0.01, 'humidity': 87, 'cloud': 75, 'feelslike_c': 7.4, 'feelslike_f': 45.2, 'windchill_c': 6.2, 'windchill_f': 43.2, 'heatindex_c': 6.2, 'heatindex_f': 43.2, 'dewpoint_c': 3.5, 'dewpoint_f': 38.3, 'vis_km': 8.0, 'vis_miles': 4.0, 'uv': 0.0, 'gust_mph': 3.3, 'gust_kph': 5.3}}\"}, {\"url\": \"https://www.weather25.com/europe/spain/madrid?page=month&month=March\", \"content\": \"The temperatures in Madrid in March are quite cold with temperatures between 42°F and 60°F, warm clothes are a must. You can expect about 3 to 8 days of rain\"}]\n",
      "==================================\u001b[1m Ai Message \u001b[0m==================================\n",
      "\n",
      "Currently, in Madrid, the weather is moderate rain with a temperature of around 7.4°C (45.3°F). The humidity is at 87%, and there is a light wind from the north-northwest at about 3.6 kph (2.2 mph). It's a bit chilly, so make sure to dress warmly if you're heading outside!\n",
      "\n",
      "For more details, you can check the full forecast [here](https://www.weatherapi.com/) or visit [this weather site](https://www.weather25.com/europe/spain/madrid?page=month&month=March) for monthly trends. \n",
      "\n",
      "Is there anything else you need?\n"
     ]
    }
   ],
   "source": [
    "for step in agent_executor.stream(\n",
    "    {\"messages\": [HumanMessage(content=\"whats the weather where I live?\")]},\n",
    "    config,\n",
    "    stream_mode=\"values\",\n",
    "):\n",
    "    step[\"messages\"][-1].pretty_print()"
   ]
  },
  {
   "cell_type": "code",
   "execution_count": 4,
   "metadata": {},
   "outputs": [
    {
     "name": "stdout",
     "output_type": "stream",
     "text": [
      "================================\u001b[1m Human Message \u001b[0m=================================\n",
      "\n",
      "whats the time where I live?\n",
      "==================================\u001b[1m Ai Message \u001b[0m==================================\n",
      "Tool Calls:\n",
      "  tavily_search_results_json (call_gJbx5dkMzolJGLkSGCpjxoYG)\n",
      " Call ID: call_gJbx5dkMzolJGLkSGCpjxoYG\n",
      "  Args:\n",
      "    query: current time in Madrid Spain\n",
      "=================================\u001b[1m Tool Message \u001b[0m=================================\n",
      "Name: tavily_search_results_json\n",
      "\n",
      "[{\"url\": \"https://time.is/Madrid\", \"content\": \"Madrid: 07:11pm Time.is Time in Madrid, Spain now Sun: ↑ 08:09AM ↓ 06:49PM (10h 40m) - More info - Make Madrid time default - Add to favorite locations Time zone info for Madrid The time in Madrid is normally 6 hours ahead of the time in United States, but because these time zones don't share the same start and end times for daylight saving time, the time in Madrid can for a short while be 5 hours ahead of the time in United States. The IANA time zone identifier for Madrid is Europe/Madrid. Sunrise, sunset, day length and solar time for Madrid Time here&there Your time zone Time zones How to use Time.is What time is it? ¿Qué hora es?\"}, {\"url\": \"https://www.timeanddate.com/worldclock/spain/madrid\", \"content\": \"Current Local Time in Madrid, Madrid, Spain Time Zone News Calendar & Holiday News Time Zones Time Zones Home Time Zone Converter Time Zone Map Time Difference Time Zone News Calendar & Holiday News Moon Calculator Calculators Home   Time Zones   World Clock   Spain   Madrid Current Local Time in Madrid, Madrid, Spain Time Zone Sunrise & Sunset Thursday, February 13, 2025 Time Zone More Sun & Moon in Madrid Time Zone Converter for Madrid Event Time Announcer for Madrid Time difference between Madrid and other locations Distance calculator to/from Madrid Calendar & Holidays Thursday, February 13, 2025 Sun & Moon times precise to the second. © Time and Date AS 1995–2025 Time Zones Calculators © Time and Date AS 1995–2025.\"}]\n",
      "==================================\u001b[1m Ai Message \u001b[0m==================================\n",
      "\n",
      "The current time in Madrid, Spain, is 7:11 PM. If you need more information, you can check the time [here](https://time.is/Madrid) or explore more about time zones and clocks at [Time and Date](https://www.timeanddate.com/worldclock/spain/madrid).\n",
      "\n",
      "Is there anything else you'd like to know?\n"
     ]
    }
   ],
   "source": [
    "for step in agent_executor.stream(\n",
    "    {\"messages\": [HumanMessage(content=\"whats the time where I live?\")]},\n",
    "    config,\n",
    "    stream_mode=\"values\",\n",
    "):\n",
    "    step[\"messages\"][-1].pretty_print()"
   ]
  },
  {
   "cell_type": "markdown",
   "metadata": {},
   "source": [
    "# Step-by-step guide to build an agent"
   ]
  },
  {
   "cell_type": "code",
   "execution_count": 5,
   "metadata": {},
   "outputs": [
    {
     "name": "stdout",
     "output_type": "stream",
     "text": [
      "[{'url': 'https://www.weatherapi.com/', 'content': \"{'location': {'name': 'San Francisco', 'region': 'California', 'country': 'United States of America', 'lat': 37.775, 'lon': -122.4183, 'tz_id': 'America/Los_Angeles', 'localtime_epoch': 1741546632, 'localtime': '2025-03-09 11:57'}, 'current': {'last_updated_epoch': 1741545900, 'last_updated': '2025-03-09 11:45', 'temp_c': 12.8, 'temp_f': 55.0, 'is_day': 1, 'condition': {'text': 'Partly cloudy', 'icon': '//cdn.weatherapi.com/weather/64x64/day/116.png', 'code': 1003}, 'wind_mph': 2.9, 'wind_kph': 4.7, 'wind_degree': 197, 'wind_dir': 'SSW', 'pressure_mb': 1023.0, 'pressure_in': 30.2, 'precip_mm': 0.0, 'precip_in': 0.0, 'humidity': 64, 'cloud': 50, 'feelslike_c': 13.0, 'feelslike_f': 55.4, 'windchill_c': 10.2, 'windchill_f': 50.3, 'heatindex_c': 10.5, 'heatindex_f': 50.8, 'dewpoint_c': 8.3, 'dewpoint_f': 46.9, 'vis_km': 16.0, 'vis_miles': 9.0, 'uv': 2.9, 'gust_mph': 3.7, 'gust_kph': 6.0}}\"}, {'url': 'https://weather.com/weather/today/l/San+Francisco+CA+USCA0987:1:US', 'content': 'Weather Forecast and Conditions for San Francisco, CA - The Weather Channel | Weather.com Weather Forecasts ### 2 pm 56° Chance of Rain2% ### 3 pm 57° Chance of Rain2% ### 4 pm 56° Chance of Rain2% ### 5 pm 55° Chance of Rain2% Blithedale Canyon / Middle Ridge Neighbor 2d ago 6reactions10commentsMoreGirl Scout Cookie sale: corner of Whole Foods on Miller / Evergreen.575 Ethel Ave. 2/15 Sat.10:30am- 12noon ~ come on out and get some sweet treats for yourself or gift / donate a box of cookies! ### Seasonal Allergies and Pollen Count Forecast Tree pollen is moderate in your area### Cold & Flu Forecast Flu risk is high in your area Weather Data APIs'}]\n"
     ]
    }
   ],
   "source": [
    "from langchain_community.tools.tavily_search import TavilySearchResults\n",
    "\n",
    "search = TavilySearchResults(max_results=2)\n",
    "search_results = search.invoke(\"what is the weather in SF\")\n",
    "print(search_results)\n",
    "# If we want, we can create other tools.\n",
    "# Once we have all the tools we want, we can put them in a list that we will reference later.\n",
    "tools = [search]"
   ]
  },
  {
   "cell_type": "code",
   "execution_count": 6,
   "metadata": {},
   "outputs": [],
   "source": [
    "from langchain.chat_models import init_chat_model\n",
    "\n",
    "model = init_chat_model(\"gpt-4o-mini\", model_provider=\"openai\")"
   ]
  },
  {
   "cell_type": "code",
   "execution_count": 7,
   "metadata": {},
   "outputs": [
    {
     "data": {
      "text/plain": [
       "'Hello! How can I assist you today?'"
      ]
     },
     "execution_count": 7,
     "metadata": {},
     "output_type": "execute_result"
    }
   ],
   "source": [
    "from langchain_core.messages import HumanMessage\n",
    "\n",
    "response = model.invoke([HumanMessage(content=\"hi!\")])\n",
    "response.content"
   ]
  },
  {
   "cell_type": "code",
   "execution_count": 8,
   "metadata": {},
   "outputs": [],
   "source": [
    "model_with_tools = model.bind_tools(tools)"
   ]
  },
  {
   "cell_type": "code",
   "execution_count": 9,
   "metadata": {},
   "outputs": [
    {
     "name": "stdout",
     "output_type": "stream",
     "text": [
      "ContentString: Hello! How can I assist you today?\n",
      "ToolCalls: []\n"
     ]
    }
   ],
   "source": [
    "response = model_with_tools.invoke([HumanMessage(content=\"Hi!\")])\n",
    "\n",
    "print(f\"ContentString: {response.content}\")\n",
    "print(f\"ToolCalls: {response.tool_calls}\")"
   ]
  },
  {
   "cell_type": "code",
   "execution_count": 10,
   "metadata": {},
   "outputs": [
    {
     "name": "stdout",
     "output_type": "stream",
     "text": [
      "ContentString: \n",
      "ToolCalls: [{'name': 'tavily_search_results_json', 'args': {'query': 'current weather in San Francisco'}, 'id': 'call_SOlVXerZtVurEbpnFtXKgHDc', 'type': 'tool_call'}]\n"
     ]
    }
   ],
   "source": [
    "response = model_with_tools.invoke([HumanMessage(content=\"What's the weather in SF?\")])\n",
    "\n",
    "print(f\"ContentString: {response.content}\")\n",
    "print(f\"ToolCalls: {response.tool_calls}\")"
   ]
  },
  {
   "cell_type": "code",
   "execution_count": 11,
   "metadata": {},
   "outputs": [],
   "source": [
    "from langgraph.prebuilt import create_react_agent\n",
    "\n",
    "agent_executor = create_react_agent(model, tools)"
   ]
  },
  {
   "cell_type": "code",
   "execution_count": 12,
   "metadata": {},
   "outputs": [
    {
     "data": {
      "text/plain": [
       "[HumanMessage(content='hi!', additional_kwargs={}, response_metadata={}, id='f7a24fd6-a90b-4cf9-becd-d6413c468faf'),\n",
       " AIMessage(content='Hello! How can I assist you today?', additional_kwargs={'refusal': None}, response_metadata={'token_usage': {'completion_tokens': 11, 'prompt_tokens': 81, 'total_tokens': 92, 'completion_tokens_details': {'accepted_prediction_tokens': 0, 'audio_tokens': 0, 'reasoning_tokens': 0, 'rejected_prediction_tokens': 0}, 'prompt_tokens_details': {'audio_tokens': 0, 'cached_tokens': 0}}, 'model_name': 'gpt-4o-mini-2024-07-18', 'system_fingerprint': 'fp_06737a9306', 'finish_reason': 'stop', 'logprobs': None}, id='run-e16d63a4-9113-4a32-9d8e-d41552f88783-0', usage_metadata={'input_tokens': 81, 'output_tokens': 11, 'total_tokens': 92, 'input_token_details': {'audio': 0, 'cache_read': 0}, 'output_token_details': {'audio': 0, 'reasoning': 0}})]"
      ]
     },
     "execution_count": 12,
     "metadata": {},
     "output_type": "execute_result"
    }
   ],
   "source": [
    "response = agent_executor.invoke({\"messages\": [HumanMessage(content=\"hi!\")]})\n",
    "\n",
    "response[\"messages\"]"
   ]
  },
  {
   "cell_type": "code",
   "execution_count": 13,
   "metadata": {},
   "outputs": [
    {
     "data": {
      "text/plain": [
       "[HumanMessage(content='whats the weather in sf?', additional_kwargs={}, response_metadata={}, id='f5b7feba-cb25-4b73-8898-ffa1f5dad91e'),\n",
       " AIMessage(content='', additional_kwargs={'tool_calls': [{'id': 'call_xHyrw5G5NRV1QhyeFDP2AyG6', 'function': {'arguments': '{\"query\":\"San Francisco weather\"}', 'name': 'tavily_search_results_json'}, 'type': 'function'}], 'refusal': None}, response_metadata={'token_usage': {'completion_tokens': 21, 'prompt_tokens': 86, 'total_tokens': 107, 'completion_tokens_details': {'accepted_prediction_tokens': 0, 'audio_tokens': 0, 'reasoning_tokens': 0, 'rejected_prediction_tokens': 0}, 'prompt_tokens_details': {'audio_tokens': 0, 'cached_tokens': 0}}, 'model_name': 'gpt-4o-mini-2024-07-18', 'system_fingerprint': 'fp_06737a9306', 'finish_reason': 'tool_calls', 'logprobs': None}, id='run-8067a7ee-2c46-4e6f-9acb-dd29efd32eac-0', tool_calls=[{'name': 'tavily_search_results_json', 'args': {'query': 'San Francisco weather'}, 'id': 'call_xHyrw5G5NRV1QhyeFDP2AyG6', 'type': 'tool_call'}], usage_metadata={'input_tokens': 86, 'output_tokens': 21, 'total_tokens': 107, 'input_token_details': {'audio': 0, 'cache_read': 0}, 'output_token_details': {'audio': 0, 'reasoning': 0}}),\n",
       " ToolMessage(content='[{\"url\": \"https://www.weatherapi.com/\", \"content\": \"{\\'location\\': {\\'name\\': \\'San Francisco\\', \\'region\\': \\'California\\', \\'country\\': \\'United States of America\\', \\'lat\\': 37.775, \\'lon\\': -122.4183, \\'tz_id\\': \\'America/Los_Angeles\\', \\'localtime_epoch\\': 1741546805, \\'localtime\\': \\'2025-03-09 12:00\\'}, \\'current\\': {\\'last_updated_epoch\\': 1741545900, \\'last_updated\\': \\'2025-03-09 11:45\\', \\'temp_c\\': 12.8, \\'temp_f\\': 55.0, \\'is_day\\': 1, \\'condition\\': {\\'text\\': \\'Partly cloudy\\', \\'icon\\': \\'//cdn.weatherapi.com/weather/64x64/day/116.png\\', \\'code\\': 1003}, \\'wind_mph\\': 2.9, \\'wind_kph\\': 4.7, \\'wind_degree\\': 197, \\'wind_dir\\': \\'SSW\\', \\'pressure_mb\\': 1023.0, \\'pressure_in\\': 30.2, \\'precip_mm\\': 0.0, \\'precip_in\\': 0.0, \\'humidity\\': 64, \\'cloud\\': 50, \\'feelslike_c\\': 13.0, \\'feelslike_f\\': 55.4, \\'windchill_c\\': 10.2, \\'windchill_f\\': 50.3, \\'heatindex_c\\': 10.5, \\'heatindex_f\\': 50.8, \\'dewpoint_c\\': 8.3, \\'dewpoint_f\\': 46.9, \\'vis_km\\': 16.0, \\'vis_miles\\': 9.0, \\'uv\\': 2.9, \\'gust_mph\\': 3.7, \\'gust_kph\\': 6.0}}\"}, {\"url\": \"https://world-weather.info/forecast/usa/san_francisco/march-2025/\", \"content\": \"Weather in San Francisco in March 2025 (California) - Detailed Weather Forecast for a Month Weather in San Francisco Weather in San Francisco in March 2025 San Francisco Weather Forecast for March 2025 is based on long term prognosis and previous years\\' statistical data. 1 +54°+52° 2 +54°+50° 3 +54°+50° 4 +54°+48° 5 +61°+46° +59°+50° +59°+50° +61°+50° +61°+52° +61°+52° +63°+52° +63°+52° +61°+52° +61°+52° +63°+54° +61°+52° +63°+50° +61°+52° +61°+52° +59°+52° +61°+52° +59°+50° +57°+50° +57°+50° +59°+50° +59°+50° +61°+52° +63°+52° +63°+54° +63°+52° +63°+54° Extended weather forecast in San Francisco HourlyWeek10-Day14-Day30-DayYear Weather in Washington, D.C.+32° Sacramento+55° Pleasanton+52° Redwood City+55° San Leandro+55° San Mateo+54° San Rafael+55° San Ramon+52° South San Francisco+54° Vallejo+54° Palo Alto+55° Pacifica+55° Berkeley+57° Castro Valley+54° Concord+54° Daly City+54° Lagunitas+55° world\\'s temperature today day day Temperature units\"}]', name='tavily_search_results_json', id='8e8cf0fc-ace8-4cca-8093-b47f23b6c9f2', tool_call_id='call_xHyrw5G5NRV1QhyeFDP2AyG6', artifact={'query': 'San Francisco weather', 'follow_up_questions': None, 'answer': None, 'images': [], 'results': [{'title': 'Weather in San Francisco', 'url': 'https://www.weatherapi.com/', 'content': \"{'location': {'name': 'San Francisco', 'region': 'California', 'country': 'United States of America', 'lat': 37.775, 'lon': -122.4183, 'tz_id': 'America/Los_Angeles', 'localtime_epoch': 1741546805, 'localtime': '2025-03-09 12:00'}, 'current': {'last_updated_epoch': 1741545900, 'last_updated': '2025-03-09 11:45', 'temp_c': 12.8, 'temp_f': 55.0, 'is_day': 1, 'condition': {'text': 'Partly cloudy', 'icon': '//cdn.weatherapi.com/weather/64x64/day/116.png', 'code': 1003}, 'wind_mph': 2.9, 'wind_kph': 4.7, 'wind_degree': 197, 'wind_dir': 'SSW', 'pressure_mb': 1023.0, 'pressure_in': 30.2, 'precip_mm': 0.0, 'precip_in': 0.0, 'humidity': 64, 'cloud': 50, 'feelslike_c': 13.0, 'feelslike_f': 55.4, 'windchill_c': 10.2, 'windchill_f': 50.3, 'heatindex_c': 10.5, 'heatindex_f': 50.8, 'dewpoint_c': 8.3, 'dewpoint_f': 46.9, 'vis_km': 16.0, 'vis_miles': 9.0, 'uv': 2.9, 'gust_mph': 3.7, 'gust_kph': 6.0}}\", 'score': 0.9969273, 'raw_content': None}, {'url': 'https://world-weather.info/forecast/usa/san_francisco/march-2025/', 'title': 'Weather in San Francisco in March 2025 (California)', 'content': \"Weather in San Francisco in March 2025 (California) - Detailed Weather Forecast for a Month Weather in San Francisco Weather in San Francisco in March 2025 San Francisco Weather Forecast for March 2025 is based on long term prognosis and previous years' statistical data. 1 +54°+52° 2 +54°+50° 3 +54°+50° 4 +54°+48° 5 +61°+46° +59°+50° +59°+50° +61°+50° +61°+52° +61°+52° +63°+52° +63°+52° +61°+52° +61°+52° +63°+54° +61°+52° +63°+50° +61°+52° +61°+52° +59°+52° +61°+52° +59°+50° +57°+50° +57°+50° +59°+50° +59°+50° +61°+52° +63°+52° +63°+54° +63°+52° +63°+54° Extended weather forecast in San Francisco HourlyWeek10-Day14-Day30-DayYear Weather in Washington, D.C.+32° Sacramento+55° Pleasanton+52° Redwood City+55° San Leandro+55° San Mateo+54° San Rafael+55° San Ramon+52° South San Francisco+54° Vallejo+54° Palo Alto+55° Pacifica+55° Berkeley+57° Castro Valley+54° Concord+54° Daly City+54° Lagunitas+55° world's temperature today day day Temperature units\", 'score': 0.9067276, 'raw_content': None}], 'response_time': 1.45}),\n",
       " AIMessage(content='The current weather in San Francisco is partly cloudy, with a temperature of 12.8°C (55°F). The wind is blowing from the south-southwest at 2.9 mph, and the humidity is at 64%. Visibility is good at 16 km (9 miles). \\n\\nFor more details, you can visit [WeatherAPI](https://www.weatherapi.com/) for the latest updates.', additional_kwargs={'refusal': None}, response_metadata={'token_usage': {'completion_tokens': 85, 'prompt_tokens': 916, 'total_tokens': 1001, 'completion_tokens_details': {'accepted_prediction_tokens': 0, 'audio_tokens': 0, 'reasoning_tokens': 0, 'rejected_prediction_tokens': 0}, 'prompt_tokens_details': {'audio_tokens': 0, 'cached_tokens': 0}}, 'model_name': 'gpt-4o-mini-2024-07-18', 'system_fingerprint': 'fp_06737a9306', 'finish_reason': 'stop', 'logprobs': None}, id='run-25b258e2-cd0a-41d0-95ee-b2e5c65cab67-0', usage_metadata={'input_tokens': 916, 'output_tokens': 85, 'total_tokens': 1001, 'input_token_details': {'audio': 0, 'cache_read': 0}, 'output_token_details': {'audio': 0, 'reasoning': 0}})]"
      ]
     },
     "execution_count": 13,
     "metadata": {},
     "output_type": "execute_result"
    }
   ],
   "source": [
    "response = agent_executor.invoke(\n",
    "    {\"messages\": [HumanMessage(content=\"whats the weather in sf?\")]}\n",
    ")\n",
    "response[\"messages\"]"
   ]
  },
  {
   "cell_type": "code",
   "execution_count": 14,
   "metadata": {},
   "outputs": [
    {
     "name": "stdout",
     "output_type": "stream",
     "text": [
      "================================\u001b[1m Human Message \u001b[0m=================================\n",
      "\n",
      "whats the weather in sf?\n",
      "==================================\u001b[1m Ai Message \u001b[0m==================================\n",
      "Tool Calls:\n",
      "  tavily_search_results_json (call_XvaV0QRj2Nv7gC48cPIV7I1U)\n",
      " Call ID: call_XvaV0QRj2Nv7gC48cPIV7I1U\n",
      "  Args:\n",
      "    query: San Francisco weather\n",
      "=================================\u001b[1m Tool Message \u001b[0m=================================\n",
      "Name: tavily_search_results_json\n",
      "\n",
      "[{\"url\": \"https://www.weatherapi.com/\", \"content\": \"{'location': {'name': 'San Francisco', 'region': 'California', 'country': 'United States of America', 'lat': 37.775, 'lon': -122.4183, 'tz_id': 'America/Los_Angeles', 'localtime_epoch': 1741546805, 'localtime': '2025-03-09 12:00'}, 'current': {'last_updated_epoch': 1741545900, 'last_updated': '2025-03-09 11:45', 'temp_c': 12.8, 'temp_f': 55.0, 'is_day': 1, 'condition': {'text': 'Partly cloudy', 'icon': '//cdn.weatherapi.com/weather/64x64/day/116.png', 'code': 1003}, 'wind_mph': 2.9, 'wind_kph': 4.7, 'wind_degree': 197, 'wind_dir': 'SSW', 'pressure_mb': 1023.0, 'pressure_in': 30.2, 'precip_mm': 0.0, 'precip_in': 0.0, 'humidity': 64, 'cloud': 50, 'feelslike_c': 13.0, 'feelslike_f': 55.4, 'windchill_c': 10.2, 'windchill_f': 50.3, 'heatindex_c': 10.5, 'heatindex_f': 50.8, 'dewpoint_c': 8.3, 'dewpoint_f': 46.9, 'vis_km': 16.0, 'vis_miles': 9.0, 'uv': 2.9, 'gust_mph': 3.7, 'gust_kph': 6.0}}\"}, {\"url\": \"https://world-weather.info/forecast/usa/san_francisco/march-2025/\", \"content\": \"Weather in San Francisco in March 2025 (California) - Detailed Weather Forecast for a Month Weather in San Francisco Weather in San Francisco in March 2025 San Francisco Weather Forecast for March 2025 is based on long term prognosis and previous years' statistical data. 1 +54°+52° 2 +54°+50° 3 +54°+50° 4 +54°+48° 5 +61°+46° +59°+50° +59°+50° +61°+50° +61°+52° +61°+52° +63°+52° +63°+52° +61°+52° +61°+52° +63°+54° +61°+52° +63°+50° +61°+52° +61°+52° +59°+52° +61°+52° +59°+50° +57°+50° +57°+50° +59°+50° +59°+50° +61°+52° +63°+52° +63°+54° +63°+52° +63°+54° Extended weather forecast in San Francisco HourlyWeek10-Day14-Day30-DayYear Weather in Washington, D.C.+32° Sacramento+55° Pleasanton+52° Redwood City+55° San Leandro+55° San Mateo+54° San Rafael+55° San Ramon+52° South San Francisco+54° Vallejo+54° Palo Alto+55° Pacifica+55° Berkeley+57° Castro Valley+54° Concord+54° Daly City+54° Lagunitas+55° world's temperature today day day Temperature units\"}]\n",
      "==================================\u001b[1m Ai Message \u001b[0m==================================\n",
      "\n",
      "The current weather in San Francisco is as follows:\n",
      "\n",
      "- **Temperature:** 12.8°C (55°F)\n",
      "- **Condition:** Partly cloudy\n",
      "- **Wind:** 2.9 mph (4.7 kph), coming from the South-Southwest\n",
      "- **Humidity:** 64%\n",
      "- **Cloud Coverage:** 50%\n",
      "- **Visibility:** 9 miles (16 km)\n",
      "\n",
      "The weather is mild, but with a little bit of cloudiness. For more details, you can check out weather sites like [WeatherAPI](https://www.weatherapi.com/) or [World Weather Info](https://world-weather.info/forecast/usa/san_francisco/march-2025/).\n"
     ]
    }
   ],
   "source": [
    "for step in agent_executor.stream(\n",
    "    {\"messages\": [HumanMessage(content=\"whats the weather in sf?\")]},\n",
    "    stream_mode=\"values\",\n",
    "):\n",
    "    step[\"messages\"][-1].pretty_print()"
   ]
  },
  {
   "cell_type": "code",
   "execution_count": 15,
   "metadata": {},
   "outputs": [
    {
     "name": "stdout",
     "output_type": "stream",
     "text": [
      "The| current| weather| in| San| Francisco| is| as| follows|:\n",
      "\n",
      "|-| **|Temperature|**|:| |12|.|8|°C| (|55|°F|)\n",
      "|-| **|Condition|**|:| Part|ly| cloudy|\n",
      "|-| **|Wind|**|:| |2|.|9| mph| (|4|.|7| k|ph|)| from| the| south|-s|outh|west|\n",
      "|-| **|Humidity|**|:| |64|%\n",
      "|-| **|Visibility|**|:| |16| km| (|9| miles|)\n",
      "\n",
      "|You| can| find| more| details| [|here|](|https|://|www|.weather|api|.com|/|).|The| current| weather| in| San| Francisco|,| CA| is| as| follows|:\n",
      "\n",
      "|-| **|Temperature|**|:| |12|.|8|°C| (|55|.|0|°F|)\n",
      "|-| **|Condition|**|:| Part|ly| cloudy|\n",
      "|-| **|Wind|**|:| |2|.|9| mph| (|4|.|7| k|ph|)| from| the| S|SW|\n",
      "|-| **|Humidity|**|:| |64|%\n",
      "|-| **|Cloud| Coverage|**|:| |50|%\n",
      "|-| **|Visibility|**|:| |16| km| (|9| miles|)\n",
      "|-| **|Last| Updated|**|:| March| |9|,| |202|5|,| at| |11|:|45| AM| local| time|\n",
      "\n",
      "|For| more| detailed| updates|,| you| can| check| the| weather| on| [|Weather| API|](|https|://|www|.weather|api|.com|/)| or| [|The| Weather| Channel|](|https|://|weather|.com|/weather|/t|oday|/l|/|US|CA|098|7|:|1|:|US|).|The| current| weather| in| San| Francisco| is| partly| cloudy| with| a| temperature| of| approximately| |55|°F| (|12|.|8|°C|).| The| humidity| level| is| at| |64|%,| and| there| is| no| precipitation| expected|.| Winds| are| coming| from| the| south|-s|outh|west| at| about| |2|.|9| mph|.\n",
      "\n",
      "|For| more| detailed| weather| updates|,| you| can| check| out| [|Weather|.com|](|https|://|weather|.com|/weather|/t|oday|/l|/|US|CA|098|7|:|1|:|US|)| or| [|Weather|API|](|https|://|www|.weather|api|.com|/|).|The| current| weather| in| San| Francisco| is| partly| cloudy| with| a| temperature| of| around| |12|.|8|°C| (|55|°F|).| The| wind| is| coming| from| the| south|-s|outh|west| at| about| |2|.|9| mph| (|4|.|7| k|ph|),| and| the| humidity| is| at| |64|%.| There| is| no| precipitation| currently|,| and| visibility| is| approximately| |16| kilometers| (|9| miles|).\n",
      "\n",
      "|For| more| detailed| and| updated| information|,| you| can| check| [|Weather|API|](|https|://|www|.weather|api|.com|/)| or| [|World| Weather|](|https|://|world|-weather|.info|/|forecast|/|usa|/s|an|_fr|anc|isco|/m|arch|-|202|5|/|).|The| current| weather| in| San| Francisco| is| as| follows|:\n",
      "\n",
      "|-| **|Temperature|**|:| |12|.|8|°C| (|55|°F|)\n",
      "|-| **|Condition|**|:| Part|ly| cloudy|\n",
      "|-| **|Wind| Speed|**|:| |4|.|9| mph| (|7|.|9| k|ph|)| from| the| southwest|\n",
      "|-| **|Humidity|**|:| |64|%\n",
      "|-| **|Cloud| Coverage|**|:| |50|%\n",
      "|-| **|Pressure|**|:| |102|3| mb| (|30|.|2| in|)\n",
      "\n",
      "|You| can| check| more| details| on| [|Weather|.com|](|https|://|weather|.com|/weather|/t|oday|/l|/|US|CA|098|7|:|1|:|US|)| or| [|Weather|API|.com|](|https|://|www|.weather|api|.com|/|).|The| current| weather| in| San| Francisco| is| as| follows|:\n",
      "\n",
      "|-| **|Temperature|**|:| |12|.|8|°C| (|55|°F|)\n",
      "|-| **|Condition|**|:| Part|ly| cloudy|\n",
      "|-| **|Wind|**|:| |2|.|9| mph| (|4|.|7| k|ph|)| from| the| S|SW|\n",
      "|-| **|Humidity|**|:| |64|%\n",
      "|-| **|Pressure|**|:| |102|3|.|0| mb|\n",
      "|-| **|Visibility|**|:| |16| km| (|9| miles|)\n",
      "\n",
      "|For| more| details|,| you| can| visit| [|Weather|API|](|https|://|www|.weather|api|.com|/)| or| check| [|World| Weather|](|https|://|world|-weather|.info|/|forecast|/|usa|/s|an|_fr|anc|isco|/m|arch|-|202|5|/|).|The| current| weather| in| San| Francisco| is| partly| cloudy| with| a| temperature| of| |55|°F| (|12|.|8|°C|).| The| humidity| is| at| |64|%,| and| there's| a| light| wind| coming| from| the| south|-s|outh|west| at| about| |2|.|9| mph|.| The| visibility| is| good|,| reaching| up| to| |9| miles|.\n",
      "\n",
      "|For| more| detailed| forecasts|,| you| can| check| sources| like| [|Weather|.com|](|https|://|weather|.com|/weather|/t|oday|/l|/|US|CA|098|7|:|1|:|US|)| or| [|Weather| API|](|https|://|www|.weather|api|.com|/|).|The| current| weather| in| San| Francisco| is| as| follows|:\n",
      "\n",
      "|-| **|Temperature|**|:| |12|.|8|°C| (|55|°F|)\n",
      "|-| **|Condition|**|:| Part|ly| cloudy|\n",
      "|-| **|Wind|**|:| |2|.|9| mph| (|4|.|7| k|ph|)| from| the| south|-s|outh|west|\n",
      "|-| **|Humidity|**|:| |64|%\n",
      "|-| **|Visibility|**|:| |16| km| (|9| miles|)\n",
      "\n",
      "|For| more| details|,| you| can| check| [|Weather| API|](|https|://|www|.weather|api|.com|/)| or| [|The| Weather| Channel|](|https|://|weather|.com|/weather|/t|oday|/l|/|US|CA|098|7|:|1|:|US|).|The| current| weather| in| San| Francisco| is| as| follows|:\n",
      "\n",
      "|-| **|Temperature|**|:| |12|.|8|°C| (|55|.|0|°F|)\n",
      "|-| **|Condition|**|:| Part|ly| cloudy|\n",
      "|-| **|Humidity|**|:| |64|%\n",
      "|-| **|Wind|**|:| |2|.|9| mph| (|4|.|7| k|ph|)| from| the| South|-S|outh|west|\n",
      "|-| **|Visibility|**|:| |16| km| (|9| miles|)\n",
      "\n",
      "|For| more| detailed| updates|,| you| can| check| sources| like| [|Weather|.com|](|https|://|weather|.com|/weather|/t|oday|/l|/|US|CA|098|7|:|1|:|US|)| or| [|Weather|API|](|https|://|www|.weather|api|.com|/|).|The| current| weather| in| San| Francisco| is| as| follows|:\n",
      "\n",
      "|-| Temperature|:| |55|°F| (|approximately| |12|.|8|°C|)\n",
      "|-| Condition|:| Part|ly| cloudy|\n",
      "|-| Wind|:| |4|.|9| mph| (|SW|)\n",
      "|-| Hum|idity|:| |64|%\n",
      "|-| Visibility|:| |9| miles|\n",
      "|-| No| precipitation| observed|.\n",
      "\n",
      "|For| more| detailed| forecasts|,| you| can| check| the| [|Weather| Channel|](|https|://|weather|.com|/weather|/t|oday|/l|/|US|CA|098|7|:|1|:|US|)| or| [|Weather| API|](|https|://|www|.weather|api|.com|/|).|The| current| weather| in| San| Francisco| is| as| follows|:\n",
      "\n",
      "|-| **|Temperature|**|:| |12|.|8|°C| (|55|°F|)\n",
      "|-| **|Condition|**|:| Part|ly| cloudy|\n",
      "|-| **|Wind| Speed|**|:| |2|.|9| mph| (|4|.|7| k|ph|)| coming| from| the| S|SW|\n",
      "|-| **|Humidity|**|:| |64|%\n",
      "|-| **|Visibility|**|:| |16| km| (|9| miles|)\n",
      "|-| **|Last| Updated|**|:| March| |9|,| |202|5|,| at| |11|:|45| AM| PST|\n",
      "\n",
      "|You| can| check| more| details| on| the| weather| at| [|Weather| API|](|https|://|www|.weather|api|.com|/|).|The| current| weather| in| San| Francisco| is| as| follows|:\n",
      "\n",
      "|-| **|Temperature|**|:| |12|.|8|°C| (|55|°F|)\n",
      "|-| **|Condition|**|:| Part|ly| cloudy|\n",
      "|-| **|Wind|**|:| |2|.|9| mph| (|4|.|7| k|ph|)| coming| from| the| S|SW|\n",
      "|-| **|Humidity|**|:| |64|%\n",
      "|-| **|Visibility|**|:| |16| km| (|9| miles|)\n",
      "\n",
      "|For| more| detailed| and| updated| weather| information|,| you| can| visit| [|Weather|API|](|https|://|www|.weather|api|.com|/)| or| check| extended| forecasts| on| [|World| Weather|](|https|://|world|-weather|.info|/|forecast|/|usa|/s|an|_fr|anc|isco|/m|arch|-|202|5|/|).|The| current| weather| in| San| Francisco|,| California| is| as| follows|:\n",
      "\n",
      "|-| **|Temperature|**|:| |12|.|8|°C| (|55|°F|)\n",
      "|-| **|Condition|**|:| Part|ly| cloudy|\n",
      "|-| **|Wind|**|:| |2|.|9| mph| (|4|.|7| k|ph|)| from| the| south|-s|outh|west|\n",
      "|-| **|Humidity|**|:| |64|%\n",
      "|-| **|Visibility|**|:| |16| km| (|9| miles|)\n",
      "|-| **|Pressure|**|:| |102|3| mb| (|30|.|2| in|)\n",
      "\n",
      "|For| more| detailed| forecasts| and| updates|,| you| can| visit| [|Weather| API|](|https|://|www|.weather|api|.com|/|).|The| current| weather| in| San| Francisco| is| as| follows|:\n",
      "\n",
      "|-| **|Temperature|**|:| |12|.|8|°C| (|55|°F|)\n",
      "|-| **|Condition|**|:| Part|ly| cloudy|\n",
      "|-| **|Wind|**|:| |2|.|9| mph| (|4|.|7| k|ph|)| from| the| south|-s|outh|west|\n",
      "|-| **|Humidity|**|:| |64|%\n",
      "|-| **|Visibility|**|:| |16| km| (|9| miles|)\n",
      "\n",
      "|Overall|,| it's| a| mild| day| in| San| Francisco| with| no| precipitation| expected|.| \n",
      "\n",
      "|For| more| detailed| weather| information|,| you| can| check| [|Weather|API|](|https|://|www|.weather|api|.com|/|).|Currently|,| the| weather| in| San| Francisco| is| partly| cloudy| with| a| temperature| of| around| |55|°F| (|approximately| |12|.|8|°C|).| The| wind| is| blowing| from| the| south|-s|outh|west| at| |2|.|9| mph|.| The| humidity| is| at| |64|%,| and| there| is| no| precipitation| expected|.\n",
      "\n",
      "|For| more| details|,| you| can| check| the| full| weather| report| on| [|Weather|.com|](|https|://|weather|.com|/weather|/t|oday|/l|/|US|CA|098|7|:|1|:|US|)| or| [|Weather|API|.com|](|https|://|www|.weather|api|.com|/|).|The| current| weather| in| San| Francisco| is| as| follows|:\n",
      "\n",
      "|-| **|Temperature|**|:| |12|.|8|°C| (|55|°F|)\n",
      "|-| **|Condition|**|:| Part|ly| cloudy|\n",
      "|-| **|Wind|**|:| |2|.|9| mph| (|SS|W| direction|)\n",
      "|-| **|Humidity|**|:| |64|%\n",
      "|-| **|Pressure|**|:| |102|3| mb|\n",
      "|-| **|Visibility|**|:| |16| km|\n",
      "\n",
      "|For| more| details|,| you| can| check| out| [|Weather|.com|](|https|://|weather|.com|/weather|/t|oday|/l|/|US|CA|098|7|:|1|:|US|)| or| [|Weather|API|](|https|://|www|.weather|api|.com|/|).|The| current| weather| in| San| Francisco|,| CA| is| as| follows|:\n",
      "\n",
      "|-| **|Temperature|:**| |12|.|8|°C| (|55|°F|)\n",
      "|-| **|Condition|:**| Part|ly| cloudy|\n",
      "|-| **|Wind|:**| |2|.|9| mph| (|4|.|7| k|ph|)| from| the| south|-s|outh|west|\n",
      "|-| **|Humidity|:**| |64|%\n",
      "|-| **|Visibility|:**| |16| km| (|9| miles|)\n",
      "|-| **|Pressure|:**| |102|3| mb| (|30|.|2| in|)\n",
      "|-| **|Last| Updated|:**| March| |9|,| |202|5|,| at| |11|:|45| AM|\n",
      "\n",
      "|For| more| details|,| you| can| check| [|Weather| API|](|https|://|www|.weather|api|.com|/)| or| [|The| Weather| Channel|](|https|://|weather|.com|/weather|/t|oday|/l|/|US|CA|098|7|:|1|:|US|).|The| current| weather| in| San| Francisco| is| as| follows|:\n",
      "\n",
      "|-| **|Temperature|:**| |12|.|8|°C| (|55|°F|)\n",
      "|-| **|Condition|:**| Part|ly| cloudy|\n",
      "|-| **|Wind| Speed|:**| |4|.|9| mph| (|7|.|9| k|ph|)| from| the| southwest|\n",
      "|-| **|Humidity|:**| |64|%\n",
      "|-| **|Visibility|:**| |9| miles| (|approximately| |16| km|)\n",
      "|-| **|Pressure|:**| |30|.|2| in| (|102|3|.|0| mb|)\n",
      "|-| **|Feels| Like|:**| |12|.|3|°C| (|54|.|2|°F|)\n",
      "\n",
      "|For| more| detailed| forecasts|,| you| can| visit| [|Weather|API|](|https|://|www|.weather|api|.com|/)| or| [|The| Weather| Channel|](|https|://|weather|.com|/weather|/t|oday|/l|/|US|CA|098|7|:|1|:|US|).|The| current| weather| in| San| Francisco| is| as| follows|:\n",
      "\n",
      "|-| **|Temperature|**|:| |12|.|8|°C| (|55|.|0|°F|)\n",
      "|-| **|Condition|**|:| Part|ly| cloudy|\n",
      "|-| **|Wind|**|:| |2|.|9| mph| from| the| south|-s|outh|west|\n",
      "|-| **|Humidity|**|:| |64|%\n",
      "|-| **|Pressure|**|:| |102|3| mb|\n",
      "|-| **|Visibility|**|:| |16| km|\n",
      "\n",
      "|You| can| find| more| details| on| platforms| like| [|Weather| API|](|https|://|www|.weather|api|.com|/)| or| [|Weather|.com|](|https|://|weather|.com|/weather|/t|oday|/l|/|US|CA|098|7|:|1|:|US|).|The| current| weather| in| San| Francisco| is| partly| cloudy| with| a| temperature| of| |12|.|8| °|C| (|55| °|F|).| The| wind| is| coming| from| the| south|-s|outh|west| at| |2|.|9| mph|,| and| the| humidity| is| at| |64|%.| Overall|,| it| feels| like| |13| °|C| (|55|.|4| °|F|).| There| is| no| precipitation| currently|,| and| visibility| is| good| at| |16| km| (|9| miles|).\n",
      "\n",
      "|If| you| want| more| details|,| you| can| check| the| full| weather| report| [|here|](|https|://|www|.weather|api|.com|/|).|The| current| weather| in| San| Francisco| is| partly| cloudy| with| a| temperature| of| approximately| |55|°F| (|12|.|8|°C|).| The| wind| is| coming| from| the| southwest| at| about| |4|.|9| mph| (|7|.|9| k|ph|),| with| humidity| at| |64|%.| There| is| no| precipitation| expected| at| this| time|.\n",
      "\n",
      "|For| more| detailed| weather| updates|,| you| can| visit| these| pages|:| [|Weather| API|](|https|://|www|.weather|api|.com|/)| or| [|The| Weather| Channel|](|https|://|weather|.com|/weather|/t|oday|/l|/|US|CA|098|7|:|1|:|US|).|The| current| weather| in| San| Francisco| is| as| follows|:\n",
      "\n",
      "|-| **|Temperature|**|:| |12|.|8|°C| (|55|°F|)\n",
      "|-| **|Condition|**|:| Part|ly| cloudy|\n",
      "|-| **|Humidity|**|:| |64|%\n",
      "|-| **|Wind|**|:| |4|.|9| mph| (|7|.|9| k|ph|)| from| the| southwest|\n",
      "|-| **|Pressure|**|:| |102|3| mb|\n",
      "|-| **|Visibility|**|:| |16| km| (|9| miles|)\n",
      "\n",
      "|For| more| details|,| you| can| check| [|Weather| API|](|https|://|www|.weather|api|.com|/)| or| [|World| Weather| Info|](|https|://|world|-weather|.info|/|forecast|/|usa|/s|an|_fr|anc|isco|/m|arch|-|202|5|/|).|The| current| weather| in| San| Francisco| is| as| follows|:\n",
      "\n",
      "|-| **|Temperature|**|:| |12|.|8|°C| (|55|°F|)\n",
      "|-| **|Condition|**|:| Part|ly| cloudy|\n",
      "|-| **|Wind|**|:| |4|.|9| mph| (|7|.|9| k|ph|)| from| the| southwest|\n",
      "|-| **|Humidity|**|:| |64|%\n",
      "|-| **|Visibility|**|:| |16| km| (|9| miles|)\n",
      "|-| **|Pressure|**|:| |102|3| mb|\n",
      "\n",
      "|For| more| detailed| forecasts| and| updates|,| you| can| visit| [|Weather| API|](|https|://|www|.weather|api|.com|/)| or| check| [|World| Weather|](|https|://|world|-weather|.info|/|forecast|/|usa|/s|an|_fr|anc|isco|/m|arch|-|202|5|/|).|The| current| weather| in| San| Francisco| is| as| follows|:\n",
      "\n",
      "|-| **|Temperature|:**| |12|.|8|°C| (|55|°F|)\n",
      "|-| **|Condition|:**| Part|ly| cloudy|\n",
      "|-| **|Humidity|:**| |64|%\n",
      "|-| **|Wind|:**| |2|.|9| mph| from| the| S|SW|\n",
      "|-| **|Pressure|:**| |102|3| mb|\n",
      "|-| **|Visibility|:**| |16| km| (|9| miles|)\n",
      "\n",
      "|You| can| find| more| information| about| the| weather| [|here|](|https|://|weather|.com|/weather|/t|oday|/l|/|US|CA|098|7|:|1|:|US|).|The| current| weather| in| San| Francisco|,| CA|,| is| as| follows|:\n",
      "\n",
      "|-| **|Temperature|**|:| |12|.|8|°C| (|55|°F|)\n",
      "|-| **|Condition|**|:| Part|ly| cloudy|\n",
      "|-| **|Humidity|**|:| |64|%\n",
      "|-| **|Wind|**|:| S|SW| at| |2|.|9| mph| (|4|.|7| k|ph|)\n",
      "|-| **|Pressure|**|:| |102|3| mb|\n",
      "|-| **|Visibility|**|:| |16| km| (|9| miles|)\n",
      "\n",
      "|For| more| detailed| information|,| you| can| check| the| following| links|:| \n",
      "|-| [|Weather|API|](|https|://|www|.weather|api|.com|/)| \n",
      "|-| [|Weather|.com|](|https|://|weather|.com|/weather|/t|oday|/l|/|US|CA|098|7|:|1|:|US|)|The| current| weather| in| San| Francisco| is| partly| cloudy|,| with| a| temperature| of| |12|.|8|°C| (|55|°F|).| The| wind| is| blowing| from| the| south|-s|outh|west| at| |2|.|9| mph|.| The| humidity| level| is| |64|%,| and| there| is| no| precipitation| reported|.| \n",
      "\n",
      "|For| more| details|,| you| can| check| the| full| report| [|here|](|https|://|www|.weather|api|.com|/)| or| visit| the| [|Weather| Channel|](|https|://|weather|.com|/weather|/t|oday|/l|/|US|CA|098|7|:|1|:|US|).|The| current| weather| in| San| Francisco| is| partly| cloudy|,| with| a| temperature| of| around| |12|.|8|°C| (|55|°F|).| The| wind| is| coming| from| the| south|-s|outh|west| at| about| |2|.|9| mph| (|4|.|7| k|ph|).| The| humidity| level| is| |64|%,| and| there| is| no| precipitation| expected|.\n",
      "\n",
      "|For| more| detailed| forecasts|,| you| can| check| the| [|Weather| Channel|](|https|://|weather|.com|/weather|/t|oday|/l|/|US|CA|098|7|:|1|:|US|)| or| [|Weather| API|](|https|://|www|.weather|api|.com|/|).|The| current| weather| in| San| Francisco| is| as| follows|:\n",
      "\n",
      "|-| **|Temperature|:**| |12|.|8|°C| (|55|°F|)\n",
      "|-| **|Condition|:**| Part|ly| cloudy|\n",
      "|-| **|Wind|:**| |2|.|9| mph| (|4|.|7| k|ph|)| from| the| S|SW|\n",
      "|-| **|Humidity|:**| |64|%\n",
      "|-| **|Visibility|:**| |16| km| (|9| miles|)\n",
      "|-| **|Feels| Like|:**| |13|°C| (|55|.|4|°F|)\n",
      "\n",
      "|You| can| find| more| detailed| weather| information| [|here|](|https|://|www|.weather|api|.com|/|).|The| current| weather| in| San| Francisco| is| as| follows|:\n",
      "\n",
      "|-| **|Temperature|**|:| |12|.|8|°C| (|55|.|0|°F|)\n",
      "|-| **|Condition|**|:| Part|ly| cloudy|\n",
      "|-| **|Wind|**|:| |4|.|9| mph| (|7|.|9| k|ph|)| from| the| southwest|\n",
      "|-| **|Humidity|**|:| |64|%\n",
      "|-| **|Visibility|**|:| |16|.|0| km| (|9|.|0| miles|)\n",
      "|-| **|Chance| of| Rain|**|:| |2|%\n",
      "\n",
      "|For| more| detailed| information|,| you| can| check| the| full| reports| on| [|Weather|API|](|https|://|www|.weather|api|.com|/)| or| [|The| Weather| Channel|](|https|://|weather|.com|/weather|/t|oday|/l|/|US|CA|098|7|:|1|:|US|).|The| current| weather| in| San| Francisco| is| as| follows|:\n",
      "\n",
      "|-| **|Temperature|**|:| Approximately| |12|.|8|°C| (|55|°F|)\n",
      "|-| **|Condition|**|:| Part|ly| cloudy|\n",
      "|-| **|Wind|**|:| S|SW| at| |2|.|9| mph|\n",
      "|-| **|Humidity|**|:| |64|%\n",
      "|-| **|Visibility|**|:| |16| km|\n",
      "\n",
      "|You| can| check| more| details| on| the| [|Weather|API|](|https|://|www|.weather|api|.com|/)| or| [|The| Weather| Channel|](|https|://|weather|.com|/weather|/t|oday|/l|/|US|CA|098|7|:|1|:|US|).|The| current| weather| in| San| Francisco| is| partly| cloudy| with| a| temperature| of| around| |55|°F| (|12|.|8|°C|).| The| wind| is| coming| from| the| south|-s|outh|west| at| about| |2|.|9| mph|,| and| the| humidity| is| at| |64|%.| There| is| no| precipitation| expected|.\n",
      "\n",
      "|For| more| detailed| information|,| you| can| check| the| weather| on| these| websites|:| [|Weather| API|](|https|://|www|.weather|api|.com|/)| or| [|Weather| Channel|](|https|://|weather|.com|/weather|/t|oday|/l|/|US|CA|098|7|:|1|:|US|).|The| current| weather| in| San| Francisco| is| as| follows|:\n",
      "\n",
      "|-| **|Temperature|**|:| |12|.|8|°C| (|about| |55|°F|)\n",
      "|-| **|Condition|**|:| Part|ly| cloudy|\n",
      "|-| **|Humidity|**|:| |64|%\n",
      "|-| **|Wind|**|:| |2|.|9| mph| from| the| south|-s|outh|west|\n",
      "|-| **|Pressure|**|:| |102|3| mb|\n",
      "|-| **|Visibility|**|:| |16| km|\n",
      "\n",
      "|For| more| detailed| forecasts|,| you| can| check| [|Weather|.com|](|https|://|weather|.com|/weather|/t|oday|/l|/|US|CA|098|7|:|1|:|US|).|The| current| weather| in| San| Francisco| is|:\n",
      "\n",
      "|-| Temperature|:| |12|.|8|°C| (|55|°F|)\n",
      "|-| Condition|:| Part|ly| cloudy|\n",
      "|-| Wind|:| |2|.|9| mph| (|SS|W|)\n",
      "|-| Hum|idity|:| |64|%\n",
      "|-| Visibility|:| |16| km|\n",
      "\n",
      "|You| can| find| more| detailed| information| [|here|](|https|://|www|.weather|api|.com|/)| or| check| [|The| Weather| Channel|](|https|://|weather|.com|/weather|/t|oday|/l|/|US|CA|098|7|:|1|:|US|).|The| current| weather| in| San| Francisco| is| as| follows|:\n",
      "\n",
      "|-| Temperature|:| |12|.|8|°C| (|55|°F|)\n",
      "|-| Condition|:| Part|ly| cloudy|\n",
      "|-| Wind|:| |2|.|9| mph| from| the| South|-S|outh|west|\n",
      "|-| Hum|idity|:| |64|%\n",
      "|-| Visibility|:| |16| km|\n",
      "|-| Chance| of| Rain|:| |2|%\n",
      "\n",
      "|For| more| details|,| you| can| visit| the| full| weather| forecasts| at| [|Weather|API|](|https|://|www|.weather|api|.com|/)| or| [|The| Weather| Channel|](|https|://|weather|.com|/weather|/t|oday|/l|/|US|CA|098|7|:|1|:|US|).|Currently|,| the| weather| in| San| Francisco| is| as| follows|:\n",
      "\n",
      "|-| **|Temperature|**|:| |12|.|8|°C| (|55|°F|)\n",
      "|-| **|Condition|**|:| Part|ly| cloudy|\n",
      "|-| **|Wind|**|:| |4|.|9| mph| (|7|.|9| k|ph|)| from| the| southwest|\n",
      "|-| **|Humidity|**|:| |64|%\n",
      "|-| **|Visibility|**|:| |16| km| (|9| miles|)\n",
      "\n",
      "|For| more| detailed| weather| information|,| you| can| visit| [|Weather|API|](|https|://|www|.weather|api|.com|/)| or| [|World| Weather|](|https|://|world|-weather|.info|/|forecast|/|usa|/s|an|_fr|anc|isco|/m|arch|-|202|5|/|).|"
     ]
    },
    {
     "ename": "KeyboardInterrupt",
     "evalue": "",
     "output_type": "error",
     "traceback": [
      "\u001b[0;31m---------------------------------------------------------------------------\u001b[0m",
      "\u001b[0;31mKeyboardInterrupt\u001b[0m                         Traceback (most recent call last)",
      "Cell \u001b[0;32mIn[15], line 5\u001b[0m\n\u001b[1;32m      1\u001b[0m \u001b[38;5;28;01mfor\u001b[39;00m step, metadata \u001b[38;5;129;01min\u001b[39;00m agent_executor\u001b[38;5;241m.\u001b[39mstream(\n\u001b[1;32m      2\u001b[0m     {\u001b[38;5;124m\"\u001b[39m\u001b[38;5;124mmessages\u001b[39m\u001b[38;5;124m\"\u001b[39m: [HumanMessage(content\u001b[38;5;241m=\u001b[39m\u001b[38;5;124m\"\u001b[39m\u001b[38;5;124mwhats the weather in sf?\u001b[39m\u001b[38;5;124m\"\u001b[39m)]},\n\u001b[1;32m      3\u001b[0m     stream_mode\u001b[38;5;241m=\u001b[39m\u001b[38;5;124m\"\u001b[39m\u001b[38;5;124mmessages\u001b[39m\u001b[38;5;124m\"\u001b[39m,\n\u001b[1;32m      4\u001b[0m ):\n\u001b[0;32m----> 5\u001b[0m \u001b[43m    \u001b[49m\u001b[38;5;28;43;01mfor\u001b[39;49;00m\u001b[43m \u001b[49m\u001b[43mstep\u001b[49m\u001b[43m,\u001b[49m\u001b[43m \u001b[49m\u001b[43mmetadata\u001b[49m\u001b[43m \u001b[49m\u001b[38;5;129;43;01min\u001b[39;49;00m\u001b[43m \u001b[49m\u001b[43magent_executor\u001b[49m\u001b[38;5;241;43m.\u001b[39;49m\u001b[43mstream\u001b[49m\u001b[43m(\u001b[49m\n\u001b[1;32m      6\u001b[0m \u001b[43m        \u001b[49m\u001b[43m{\u001b[49m\u001b[38;5;124;43m\"\u001b[39;49m\u001b[38;5;124;43mmessages\u001b[39;49m\u001b[38;5;124;43m\"\u001b[39;49m\u001b[43m:\u001b[49m\u001b[43m \u001b[49m\u001b[43m[\u001b[49m\u001b[43mHumanMessage\u001b[49m\u001b[43m(\u001b[49m\u001b[43mcontent\u001b[49m\u001b[38;5;241;43m=\u001b[39;49m\u001b[38;5;124;43m\"\u001b[39;49m\u001b[38;5;124;43mwhats the weather in sf?\u001b[39;49m\u001b[38;5;124;43m\"\u001b[39;49m\u001b[43m)\u001b[49m\u001b[43m]\u001b[49m\u001b[43m}\u001b[49m\u001b[43m,\u001b[49m\n\u001b[1;32m      7\u001b[0m \u001b[43m        \u001b[49m\u001b[43mstream_mode\u001b[49m\u001b[38;5;241;43m=\u001b[39;49m\u001b[38;5;124;43m\"\u001b[39;49m\u001b[38;5;124;43mmessages\u001b[39;49m\u001b[38;5;124;43m\"\u001b[39;49m\u001b[43m,\u001b[49m\n\u001b[1;32m      8\u001b[0m \u001b[43m    \u001b[49m\u001b[43m)\u001b[49m\u001b[43m:\u001b[49m\n\u001b[1;32m      9\u001b[0m \u001b[43m        \u001b[49m\u001b[38;5;28;43;01mif\u001b[39;49;00m\u001b[43m \u001b[49m\u001b[43mmetadata\u001b[49m\u001b[43m[\u001b[49m\u001b[38;5;124;43m\"\u001b[39;49m\u001b[38;5;124;43mlanggraph_node\u001b[39;49m\u001b[38;5;124;43m\"\u001b[39;49m\u001b[43m]\u001b[49m\u001b[43m \u001b[49m\u001b[38;5;241;43m==\u001b[39;49m\u001b[43m \u001b[49m\u001b[38;5;124;43m\"\u001b[39;49m\u001b[38;5;124;43magent\u001b[39;49m\u001b[38;5;124;43m\"\u001b[39;49m\u001b[43m \u001b[49m\u001b[38;5;129;43;01mand\u001b[39;49;00m\u001b[43m \u001b[49m\u001b[43m(\u001b[49m\u001b[43mtext\u001b[49m\u001b[43m \u001b[49m\u001b[38;5;241;43m:=\u001b[39;49m\u001b[43m \u001b[49m\u001b[43mstep\u001b[49m\u001b[38;5;241;43m.\u001b[39;49m\u001b[43mtext\u001b[49m\u001b[43m(\u001b[49m\u001b[43m)\u001b[49m\u001b[43m)\u001b[49m\u001b[43m:\u001b[49m\n\u001b[1;32m     10\u001b[0m \u001b[43m            \u001b[49m\u001b[38;5;28;43mprint\u001b[39;49m\u001b[43m(\u001b[49m\u001b[43mtext\u001b[49m\u001b[43m,\u001b[49m\u001b[43m \u001b[49m\u001b[43mend\u001b[49m\u001b[38;5;241;43m=\u001b[39;49m\u001b[38;5;124;43m\"\u001b[39;49m\u001b[38;5;124;43m|\u001b[39;49m\u001b[38;5;124;43m\"\u001b[39;49m\u001b[43m)\u001b[49m\n",
      "File \u001b[0;32m~/Documents/langchain_udemy_course/.venv/lib/python3.12/site-packages/langgraph/pregel/__init__.py:1724\u001b[0m, in \u001b[0;36mPregel.stream\u001b[0;34m(self, input, config, stream_mode, output_keys, interrupt_before, interrupt_after, debug, subgraphs)\u001b[0m\n\u001b[1;32m   1718\u001b[0m     \u001b[38;5;66;03m# Similarly to Bulk Synchronous Parallel / Pregel model\u001b[39;00m\n\u001b[1;32m   1719\u001b[0m     \u001b[38;5;66;03m# computation proceeds in steps, while there are channel updates.\u001b[39;00m\n\u001b[1;32m   1720\u001b[0m     \u001b[38;5;66;03m# Channel updates from step N are only visible in step N+1\u001b[39;00m\n\u001b[1;32m   1721\u001b[0m     \u001b[38;5;66;03m# channels are guaranteed to be immutable for the duration of the step,\u001b[39;00m\n\u001b[1;32m   1722\u001b[0m     \u001b[38;5;66;03m# with channel updates applied only at the transition between steps.\u001b[39;00m\n\u001b[1;32m   1723\u001b[0m     \u001b[38;5;28;01mwhile\u001b[39;00m loop\u001b[38;5;241m.\u001b[39mtick(input_keys\u001b[38;5;241m=\u001b[39m\u001b[38;5;28mself\u001b[39m\u001b[38;5;241m.\u001b[39minput_channels):\n\u001b[0;32m-> 1724\u001b[0m \u001b[43m        \u001b[49m\u001b[38;5;28;43;01mfor\u001b[39;49;00m\u001b[43m \u001b[49m\u001b[43m_\u001b[49m\u001b[43m \u001b[49m\u001b[38;5;129;43;01min\u001b[39;49;00m\u001b[43m \u001b[49m\u001b[43mrunner\u001b[49m\u001b[38;5;241;43m.\u001b[39;49m\u001b[43mtick\u001b[49m\u001b[43m(\u001b[49m\n\u001b[1;32m   1725\u001b[0m \u001b[43m            \u001b[49m\u001b[43mloop\u001b[49m\u001b[38;5;241;43m.\u001b[39;49m\u001b[43mtasks\u001b[49m\u001b[38;5;241;43m.\u001b[39;49m\u001b[43mvalues\u001b[49m\u001b[43m(\u001b[49m\u001b[43m)\u001b[49m\u001b[43m,\u001b[49m\n\u001b[1;32m   1726\u001b[0m \u001b[43m            \u001b[49m\u001b[43mtimeout\u001b[49m\u001b[38;5;241;43m=\u001b[39;49m\u001b[38;5;28;43mself\u001b[39;49m\u001b[38;5;241;43m.\u001b[39;49m\u001b[43mstep_timeout\u001b[49m\u001b[43m,\u001b[49m\n\u001b[1;32m   1727\u001b[0m \u001b[43m            \u001b[49m\u001b[43mretry_policy\u001b[49m\u001b[38;5;241;43m=\u001b[39;49m\u001b[38;5;28;43mself\u001b[39;49m\u001b[38;5;241;43m.\u001b[39;49m\u001b[43mretry_policy\u001b[49m\u001b[43m,\u001b[49m\n\u001b[1;32m   1728\u001b[0m \u001b[43m            \u001b[49m\u001b[43mget_waiter\u001b[49m\u001b[38;5;241;43m=\u001b[39;49m\u001b[43mget_waiter\u001b[49m\u001b[43m,\u001b[49m\n\u001b[1;32m   1729\u001b[0m \u001b[43m        \u001b[49m\u001b[43m)\u001b[49m\u001b[43m:\u001b[49m\n\u001b[1;32m   1730\u001b[0m \u001b[43m            \u001b[49m\u001b[38;5;66;43;03m# emit output\u001b[39;49;00m\n\u001b[1;32m   1731\u001b[0m \u001b[43m            \u001b[49m\u001b[38;5;28;43;01myield from\u001b[39;49;00m\u001b[43m \u001b[49m\u001b[43moutput\u001b[49m\u001b[43m(\u001b[49m\u001b[43m)\u001b[49m\n\u001b[1;32m   1732\u001b[0m \u001b[38;5;66;03m# emit output\u001b[39;00m\n",
      "File \u001b[0;32m~/Documents/langchain_udemy_course/.venv/lib/python3.12/site-packages/langgraph/pregel/runner.py:274\u001b[0m, in \u001b[0;36mPregelRunner.tick\u001b[0;34m(self, tasks, reraise, timeout, retry_policy, get_waiter)\u001b[0m\n\u001b[1;32m    272\u001b[0m end_time \u001b[38;5;241m=\u001b[39m timeout \u001b[38;5;241m+\u001b[39m time\u001b[38;5;241m.\u001b[39mmonotonic() \u001b[38;5;28;01mif\u001b[39;00m timeout \u001b[38;5;28;01melse\u001b[39;00m \u001b[38;5;28;01mNone\u001b[39;00m\n\u001b[1;32m    273\u001b[0m \u001b[38;5;28;01mwhile\u001b[39;00m \u001b[38;5;28mlen\u001b[39m(futures) \u001b[38;5;241m>\u001b[39m (\u001b[38;5;241m1\u001b[39m \u001b[38;5;28;01mif\u001b[39;00m get_waiter \u001b[38;5;129;01mis\u001b[39;00m \u001b[38;5;129;01mnot\u001b[39;00m \u001b[38;5;28;01mNone\u001b[39;00m \u001b[38;5;28;01melse\u001b[39;00m \u001b[38;5;241m0\u001b[39m):\n\u001b[0;32m--> 274\u001b[0m     done, inflight \u001b[38;5;241m=\u001b[39m \u001b[43mconcurrent\u001b[49m\u001b[38;5;241;43m.\u001b[39;49m\u001b[43mfutures\u001b[49m\u001b[38;5;241;43m.\u001b[39;49m\u001b[43mwait\u001b[49m\u001b[43m(\u001b[49m\n\u001b[1;32m    275\u001b[0m \u001b[43m        \u001b[49m\u001b[43mfutures\u001b[49m\u001b[43m,\u001b[49m\n\u001b[1;32m    276\u001b[0m \u001b[43m        \u001b[49m\u001b[43mreturn_when\u001b[49m\u001b[38;5;241;43m=\u001b[39;49m\u001b[43mconcurrent\u001b[49m\u001b[38;5;241;43m.\u001b[39;49m\u001b[43mfutures\u001b[49m\u001b[38;5;241;43m.\u001b[39;49m\u001b[43mFIRST_COMPLETED\u001b[49m\u001b[43m,\u001b[49m\n\u001b[1;32m    277\u001b[0m \u001b[43m        \u001b[49m\u001b[43mtimeout\u001b[49m\u001b[38;5;241;43m=\u001b[39;49m\u001b[43m(\u001b[49m\u001b[38;5;28;43mmax\u001b[39;49m\u001b[43m(\u001b[49m\u001b[38;5;241;43m0\u001b[39;49m\u001b[43m,\u001b[49m\u001b[43m \u001b[49m\u001b[43mend_time\u001b[49m\u001b[43m \u001b[49m\u001b[38;5;241;43m-\u001b[39;49m\u001b[43m \u001b[49m\u001b[43mtime\u001b[49m\u001b[38;5;241;43m.\u001b[39;49m\u001b[43mmonotonic\u001b[49m\u001b[43m(\u001b[49m\u001b[43m)\u001b[49m\u001b[43m)\u001b[49m\u001b[43m \u001b[49m\u001b[38;5;28;43;01mif\u001b[39;49;00m\u001b[43m \u001b[49m\u001b[43mend_time\u001b[49m\u001b[43m \u001b[49m\u001b[38;5;28;43;01melse\u001b[39;49;00m\u001b[43m \u001b[49m\u001b[38;5;28;43;01mNone\u001b[39;49;00m\u001b[43m)\u001b[49m\u001b[43m,\u001b[49m\n\u001b[1;32m    278\u001b[0m \u001b[43m    \u001b[49m\u001b[43m)\u001b[49m\n\u001b[1;32m    279\u001b[0m     \u001b[38;5;28;01mif\u001b[39;00m \u001b[38;5;129;01mnot\u001b[39;00m done:\n\u001b[1;32m    280\u001b[0m         \u001b[38;5;28;01mbreak\u001b[39;00m  \u001b[38;5;66;03m# timed out\u001b[39;00m\n",
      "File \u001b[0;32m/usr/lib/python3.12/concurrent/futures/_base.py:305\u001b[0m, in \u001b[0;36mwait\u001b[0;34m(fs, timeout, return_when)\u001b[0m\n\u001b[1;32m    301\u001b[0m         \u001b[38;5;28;01mreturn\u001b[39;00m DoneAndNotDoneFutures(done, not_done)\n\u001b[1;32m    303\u001b[0m     waiter \u001b[38;5;241m=\u001b[39m _create_and_install_waiters(fs, return_when)\n\u001b[0;32m--> 305\u001b[0m \u001b[43mwaiter\u001b[49m\u001b[38;5;241;43m.\u001b[39;49m\u001b[43mevent\u001b[49m\u001b[38;5;241;43m.\u001b[39;49m\u001b[43mwait\u001b[49m\u001b[43m(\u001b[49m\u001b[43mtimeout\u001b[49m\u001b[43m)\u001b[49m\n\u001b[1;32m    306\u001b[0m \u001b[38;5;28;01mfor\u001b[39;00m f \u001b[38;5;129;01min\u001b[39;00m fs:\n\u001b[1;32m    307\u001b[0m     \u001b[38;5;28;01mwith\u001b[39;00m f\u001b[38;5;241m.\u001b[39m_condition:\n",
      "File \u001b[0;32m/usr/lib/python3.12/threading.py:655\u001b[0m, in \u001b[0;36mEvent.wait\u001b[0;34m(self, timeout)\u001b[0m\n\u001b[1;32m    653\u001b[0m signaled \u001b[38;5;241m=\u001b[39m \u001b[38;5;28mself\u001b[39m\u001b[38;5;241m.\u001b[39m_flag\n\u001b[1;32m    654\u001b[0m \u001b[38;5;28;01mif\u001b[39;00m \u001b[38;5;129;01mnot\u001b[39;00m signaled:\n\u001b[0;32m--> 655\u001b[0m     signaled \u001b[38;5;241m=\u001b[39m \u001b[38;5;28;43mself\u001b[39;49m\u001b[38;5;241;43m.\u001b[39;49m\u001b[43m_cond\u001b[49m\u001b[38;5;241;43m.\u001b[39;49m\u001b[43mwait\u001b[49m\u001b[43m(\u001b[49m\u001b[43mtimeout\u001b[49m\u001b[43m)\u001b[49m\n\u001b[1;32m    656\u001b[0m \u001b[38;5;28;01mreturn\u001b[39;00m signaled\n",
      "File \u001b[0;32m/usr/lib/python3.12/threading.py:355\u001b[0m, in \u001b[0;36mCondition.wait\u001b[0;34m(self, timeout)\u001b[0m\n\u001b[1;32m    353\u001b[0m \u001b[38;5;28;01mtry\u001b[39;00m:    \u001b[38;5;66;03m# restore state no matter what (e.g., KeyboardInterrupt)\u001b[39;00m\n\u001b[1;32m    354\u001b[0m     \u001b[38;5;28;01mif\u001b[39;00m timeout \u001b[38;5;129;01mis\u001b[39;00m \u001b[38;5;28;01mNone\u001b[39;00m:\n\u001b[0;32m--> 355\u001b[0m         \u001b[43mwaiter\u001b[49m\u001b[38;5;241;43m.\u001b[39;49m\u001b[43macquire\u001b[49m\u001b[43m(\u001b[49m\u001b[43m)\u001b[49m\n\u001b[1;32m    356\u001b[0m         gotit \u001b[38;5;241m=\u001b[39m \u001b[38;5;28;01mTrue\u001b[39;00m\n\u001b[1;32m    357\u001b[0m     \u001b[38;5;28;01melse\u001b[39;00m:\n",
      "\u001b[0;31mKeyboardInterrupt\u001b[0m: "
     ]
    }
   ],
   "source": [
    "for step, metadata in agent_executor.stream(\n",
    "    {\"messages\": [HumanMessage(content=\"whats the weather in sf?\")]},\n",
    "    stream_mode=\"messages\",\n",
    "):\n",
    "    if metadata[\"langgraph_node\"] == \"agent\" and (text := step.text()):\n",
    "        print(text, end=\"|\")"
   ]
  },
  {
   "cell_type": "code",
   "execution_count": 16,
   "metadata": {},
   "outputs": [],
   "source": [
    "from langgraph.checkpoint.memory import MemorySaver\n",
    "\n",
    "memory = MemorySaver()"
   ]
  },
  {
   "cell_type": "code",
   "execution_count": 17,
   "metadata": {},
   "outputs": [],
   "source": [
    "agent_executor = create_react_agent(model, tools, checkpointer=memory)\n",
    "\n",
    "config = {\"configurable\": {\"thread_id\": \"abc123\"}}"
   ]
  },
  {
   "cell_type": "code",
   "execution_count": 18,
   "metadata": {},
   "outputs": [
    {
     "name": "stdout",
     "output_type": "stream",
     "text": [
      "{'agent': {'messages': [AIMessage(content='Hello Bob! How can I assist you today?', additional_kwargs={'refusal': None}, response_metadata={'token_usage': {'completion_tokens': 12, 'prompt_tokens': 83, 'total_tokens': 95, 'completion_tokens_details': {'accepted_prediction_tokens': 0, 'audio_tokens': 0, 'reasoning_tokens': 0, 'rejected_prediction_tokens': 0}, 'prompt_tokens_details': {'audio_tokens': 0, 'cached_tokens': 0}}, 'model_name': 'gpt-4o-mini-2024-07-18', 'system_fingerprint': 'fp_06737a9306', 'finish_reason': 'stop', 'logprobs': None}, id='run-e541ff27-8d71-4ba5-8dfa-a09b6b8756fa-0', usage_metadata={'input_tokens': 83, 'output_tokens': 12, 'total_tokens': 95, 'input_token_details': {'audio': 0, 'cache_read': 0}, 'output_token_details': {'audio': 0, 'reasoning': 0}})]}}\n",
      "----\n"
     ]
    }
   ],
   "source": [
    "for chunk in agent_executor.stream(\n",
    "    {\"messages\": [HumanMessage(content=\"hi im bob!\")]}, config\n",
    "):\n",
    "    print(chunk)\n",
    "    print(\"----\")"
   ]
  },
  {
   "cell_type": "code",
   "execution_count": 19,
   "metadata": {},
   "outputs": [
    {
     "name": "stdout",
     "output_type": "stream",
     "text": [
      "{'agent': {'messages': [AIMessage(content='Your name is Bob! How can I help you today, Bob?', additional_kwargs={'refusal': None}, response_metadata={'token_usage': {'completion_tokens': 16, 'prompt_tokens': 106, 'total_tokens': 122, 'completion_tokens_details': {'accepted_prediction_tokens': 0, 'audio_tokens': 0, 'reasoning_tokens': 0, 'rejected_prediction_tokens': 0}, 'prompt_tokens_details': {'audio_tokens': 0, 'cached_tokens': 0}}, 'model_name': 'gpt-4o-mini-2024-07-18', 'system_fingerprint': 'fp_06737a9306', 'finish_reason': 'stop', 'logprobs': None}, id='run-85e960e5-da40-4eed-bdb5-962351c7cece-0', usage_metadata={'input_tokens': 106, 'output_tokens': 16, 'total_tokens': 122, 'input_token_details': {'audio': 0, 'cache_read': 0}, 'output_token_details': {'audio': 0, 'reasoning': 0}})]}}\n",
      "----\n"
     ]
    }
   ],
   "source": [
    "for chunk in agent_executor.stream(\n",
    "    {\"messages\": [HumanMessage(content=\"whats my name?\")]}, config\n",
    "):\n",
    "    print(chunk)\n",
    "    print(\"----\")"
   ]
  },
  {
   "cell_type": "code",
   "execution_count": 20,
   "metadata": {},
   "outputs": [
    {
     "name": "stdout",
     "output_type": "stream",
     "text": [
      "{'agent': {'messages': [AIMessage(content=\"I don't know your name. If you'd like to share it, feel free!\", additional_kwargs={'refusal': None}, response_metadata={'token_usage': {'completion_tokens': 18, 'prompt_tokens': 84, 'total_tokens': 102, 'completion_tokens_details': {'accepted_prediction_tokens': 0, 'audio_tokens': 0, 'reasoning_tokens': 0, 'rejected_prediction_tokens': 0}, 'prompt_tokens_details': {'audio_tokens': 0, 'cached_tokens': 0}}, 'model_name': 'gpt-4o-mini-2024-07-18', 'system_fingerprint': 'fp_06737a9306', 'finish_reason': 'stop', 'logprobs': None}, id='run-add75bdc-364c-49b8-a0f6-0efb31a50854-0', usage_metadata={'input_tokens': 84, 'output_tokens': 18, 'total_tokens': 102, 'input_token_details': {'audio': 0, 'cache_read': 0}, 'output_token_details': {'audio': 0, 'reasoning': 0}})]}}\n",
      "----\n"
     ]
    }
   ],
   "source": [
    "config = {\"configurable\": {\"thread_id\": \"xyz123\"}}\n",
    "for chunk in agent_executor.stream(\n",
    "    {\"messages\": [HumanMessage(content=\"whats my name?\")]}, config\n",
    "):\n",
    "    print(chunk)\n",
    "    print(\"----\")"
   ]
  }
 ],
 "metadata": {
  "kernelspec": {
   "display_name": ".venv",
   "language": "python",
   "name": "python3"
  },
  "language_info": {
   "codemirror_mode": {
    "name": "ipython",
    "version": 3
   },
   "file_extension": ".py",
   "mimetype": "text/x-python",
   "name": "python",
   "nbconvert_exporter": "python",
   "pygments_lexer": "ipython3",
   "version": "3.12.7"
  }
 },
 "nbformat": 4,
 "nbformat_minor": 2
}
