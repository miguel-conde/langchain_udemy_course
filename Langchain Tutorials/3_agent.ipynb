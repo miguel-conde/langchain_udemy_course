{
 "cells": [
  {
   "cell_type": "markdown",
   "metadata": {},
   "source": [
    "[Build an agent](https://python.langchain.com/docs/tutorials/agents/)"
   ]
  },
  {
   "cell_type": "markdown",
   "metadata": {},
   "source": [
    "# End to end agent"
   ]
  },
  {
   "cell_type": "code",
   "execution_count": 2,
   "metadata": {},
   "outputs": [],
   "source": [
    "# Import relevant functionality\n",
    "# from langchain_anthropic import ChatAnthropic\n",
    "from langchain_openai import ChatOpenAI\n",
    "from langchain_community.tools.tavily_search import TavilySearchResults\n",
    "from langchain_core.messages import HumanMessage\n",
    "from langgraph.checkpoint.memory import MemorySaver\n",
    "from langgraph.prebuilt import create_react_agent\n",
    "\n",
    "# Create the agent\n",
    "memory = MemorySaver()\n",
    "# model = ChatAnthropic(model_name=\"claude-3-sonnet-20240229\")\n",
    "model = ChatOpenAI(model_name=\"gpt-4o-mini\")\n",
    "search = TavilySearchResults(max_results=2)\n",
    "tools = [search]\n",
    "agent_executor = create_react_agent(model, tools, checkpointer=memory)"
   ]
  },
  {
   "cell_type": "code",
   "execution_count": 3,
   "metadata": {},
   "outputs": [
    {
     "name": "stdout",
     "output_type": "stream",
     "text": [
      "================================\u001b[1m Human Message \u001b[0m=================================\n",
      "\n",
      "hi im bob! and i live in madrid, spain\n",
      "==================================\u001b[1m Ai Message \u001b[0m==================================\n",
      "\n",
      "Hello Bob! It's great to hear from someone in Madrid. How can I assist you today?\n"
     ]
    }
   ],
   "source": [
    "# Use the agent\n",
    "config = {\"configurable\": {\"thread_id\": \"abc123\"}}\n",
    "for step in agent_executor.stream(\n",
    "    {\"messages\": [HumanMessage(content=\"hi im bob! and i live in madrid, spain\")]},\n",
    "    config,\n",
    "    stream_mode=\"values\",\n",
    "):\n",
    "    step[\"messages\"][-1].pretty_print()"
   ]
  },
  {
   "cell_type": "code",
   "execution_count": 4,
   "metadata": {},
   "outputs": [
    {
     "name": "stdout",
     "output_type": "stream",
     "text": [
      "================================\u001b[1m Human Message \u001b[0m=================================\n",
      "\n",
      "whats the weather where I live?\n",
      "==================================\u001b[1m Ai Message \u001b[0m==================================\n",
      "Tool Calls:\n",
      "  tavily_search_results_json (call_j1pK7p07NOeiV5Bpa8tPHqa0)\n",
      " Call ID: call_j1pK7p07NOeiV5Bpa8tPHqa0\n",
      "  Args:\n",
      "    query: current weather in Madrid, Spain\n",
      "=================================\u001b[1m Tool Message \u001b[0m=================================\n",
      "Name: tavily_search_results_json\n",
      "\n",
      "[{\"url\": \"https://www.weatherapi.com/\", \"content\": \"{'location': {'name': 'Madrid', 'region': 'Madrid', 'country': 'Spain', 'lat': 40.4, 'lon': -3.6833, 'tz_id': 'Europe/Madrid', 'localtime_epoch': 1741377549, 'localtime': '2025-03-07 20:59'}, 'current': {'last_updated_epoch': 1741376700, 'last_updated': '2025-03-07 20:45', 'temp_c': 10.3, 'temp_f': 50.5, 'is_day': 0, 'condition': {'text': 'Partly cloudy', 'icon': '//cdn.weatherapi.com/weather/64x64/night/116.png', 'code': 1003}, 'wind_mph': 9.8, 'wind_kph': 15.8, 'wind_degree': 199, 'wind_dir': 'SSW', 'pressure_mb': 1007.0, 'pressure_in': 29.74, 'precip_mm': 1.6, 'precip_in': 0.06, 'humidity': 87, 'cloud': 25, 'feelslike_c': 8.2, 'feelslike_f': 46.7, 'windchill_c': 8.4, 'windchill_f': 47.2, 'heatindex_c': 10.5, 'heatindex_f': 50.9, 'dewpoint_c': 8.5, 'dewpoint_f': 47.3, 'vis_km': 10.0, 'vis_miles': 6.0, 'uv': 0.0, 'gust_mph': 14.2, 'gust_kph': 22.8}}\"}, {\"url\": \"https://www.accuweather.com/en/es/madrid/308526/weather-forecast/308526\", \"content\": \"Madrid, Madrid, Spain Weather Forecast | AccuWeather Location News Videos Madrid, Madrid Weather Current Weather --------------- 3:04 PM 49°F RealFeel® 55° Partly sunny More Details RealFeel Shade™ 49° Wind W 4 mph Wind Gusts 10 mph Air Quality Fair Madrid Weather Radar & Maps Weather Near Madrid: AccuWeather Ready Business Health Hurricane Leisure and Recreation Severe Weather Space and Astronomy Sports Travel Weather News AccuWeather Ready Business Health Hurricane Leisure and Recreation Severe Weather Space and Astronomy Sports Travel Weather News\"}]\n",
      "==================================\u001b[1m Ai Message \u001b[0m==================================\n",
      "\n",
      "The current weather in Madrid, Spain is as follows:\n",
      "\n",
      "- **Temperature**: Approximately 10.3°C (50.5°F)\n",
      "- **Condition**: Partly cloudy\n",
      "- **Wind**: Coming from the SSW at 9.8 mph (15.8 kph)\n",
      "- **Humidity**: 87%\n",
      "- **Visibility**: 10 km\n",
      "\n",
      "You can find more detailed weather updates from sources like [WeatherAPI](https://www.weatherapi.com/) or [AccuWeather](https://www.accuweather.com/en/es/madrid/308526/weather-forecast/308526).\n"
     ]
    }
   ],
   "source": [
    "for step in agent_executor.stream(\n",
    "    {\"messages\": [HumanMessage(content=\"whats the weather where I live?\")]},\n",
    "    config,\n",
    "    stream_mode=\"values\",\n",
    "):\n",
    "    step[\"messages\"][-1].pretty_print()"
   ]
  },
  {
   "cell_type": "code",
   "execution_count": 5,
   "metadata": {},
   "outputs": [
    {
     "name": "stdout",
     "output_type": "stream",
     "text": [
      "================================\u001b[1m Human Message \u001b[0m=================================\n",
      "\n",
      "whats the time where I live?\n",
      "==================================\u001b[1m Ai Message \u001b[0m==================================\n",
      "Tool Calls:\n",
      "  tavily_search_results_json (call_p2XNOIO55ppdPwITspqJqF6Q)\n",
      " Call ID: call_p2XNOIO55ppdPwITspqJqF6Q\n",
      "  Args:\n",
      "    query: current time in Madrid, Spain\n",
      "=================================\u001b[1m Tool Message \u001b[0m=================================\n",
      "Name: tavily_search_results_json\n",
      "\n",
      "[{\"url\": \"https://www.timeanddate.com/worldclock/spain/madrid\", \"content\": \"Current Local Time in Madrid, Madrid, Spain Time Zone News Calendar & Holiday News Time Zones Time Zones Home Time Zone Converter Time Zone Map Time Difference Time Zone News Calendar & Holiday News Moon Calculator Calculators Home   Time Zones   World Clock   Spain   Madrid Current Local Time in Madrid, Madrid, Spain Time Zone Sunrise & Sunset Thursday, February 13, 2025 Time Zone More Sun & Moon in Madrid Time Zone Converter for Madrid Event Time Announcer for Madrid Time difference between Madrid and other locations Distance calculator to/from Madrid Calendar & Holidays Thursday, February 13, 2025 Sun & Moon times precise to the second. © Time and Date AS 1995–2025 Time Zones Calculators © Time and Date AS 1995–2025.\"}, {\"url\": \"https://time.is/Madrid\", \"content\": \"Time zone info for Madrid · Switched to UTC +1 / Central European Time (CET). · The time was set back one hour from 03:00AM to 02:00AM local time.\"}]\n",
      "==================================\u001b[1m Ai Message \u001b[0m==================================\n",
      "\n",
      "The current local time in Madrid, Spain is in the Central European Time (CET) zone. You can check the exact current time through sources like [Time and Date](https://www.timeanddate.com/worldclock/spain/madrid) or [time.is](https://time.is/Madrid). \n",
      "\n",
      "As of now, I can't provide the exact minute, but you can easily find this information on the above websites.\n"
     ]
    }
   ],
   "source": [
    "for step in agent_executor.stream(\n",
    "    {\"messages\": [HumanMessage(content=\"whats the time where I live?\")]},\n",
    "    config,\n",
    "    stream_mode=\"values\",\n",
    "):\n",
    "    step[\"messages\"][-1].pretty_print()"
   ]
  }
 ],
 "metadata": {
  "kernelspec": {
   "display_name": ".venv",
   "language": "python",
   "name": "python3"
  },
  "language_info": {
   "codemirror_mode": {
    "name": "ipython",
    "version": 3
   },
   "file_extension": ".py",
   "mimetype": "text/x-python",
   "name": "python",
   "nbconvert_exporter": "python",
   "pygments_lexer": "ipython3",
   "version": "3.12.7"
  }
 },
 "nbformat": 4,
 "nbformat_minor": 2
}
