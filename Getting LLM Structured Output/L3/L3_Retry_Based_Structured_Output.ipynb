{
 "cells": [
  {
   "cell_type": "markdown",
   "id": "fe881523",
   "metadata": {},
   "source": [
    "# L3: Retry-based Structured Output"
   ]
  },
  {
   "cell_type": "code",
   "execution_count": 2,
   "id": "824ae65d",
   "metadata": {},
   "outputs": [],
   "source": [
    "import os\n",
    "from utils import get_together_api_key"
   ]
  },
  {
   "cell_type": "code",
   "execution_count": 3,
   "id": "143c3f5f",
   "metadata": {},
   "outputs": [],
   "source": [
    "import instructor\n",
    "from openai import OpenAI\n",
    "\n",
    "# Instantiate the client\n",
    "together_client = OpenAI(\n",
    "    base_url=f\"{os.getenv('DLAI_TOGETHER_API_BASE', 'https://api.together.xyz')}/v1\",\n",
    "    api_key=get_together_api_key()\n",
    ")"
   ]
  },
  {
   "cell_type": "code",
   "execution_count": 4,
   "id": "de9e6671",
   "metadata": {},
   "outputs": [
    {
     "data": {
      "text/plain": [
       "\"Sup back at you. How's your day going so far?\""
      ]
     },
     "execution_count": 4,
     "metadata": {},
     "output_type": "execute_result"
    }
   ],
   "source": [
    "response = together_client.chat.completions.create(\n",
    "    model='meta-llama/Meta-Llama-3.1-8B-Instruct-Turbo',\n",
    "    # model=\"gpt-4o-mini\",\n",
    "    messages = [{\n",
    "        \"role\": \"user\", \n",
    "        \"content\": 'sup'\n",
    "    }]\n",
    ")\n",
    "\n",
    "response.choices[0].message.content"
   ]
  },
  {
   "cell_type": "markdown",
   "id": "634b7ed4",
   "metadata": {},
   "source": [
    "## Adding `instructor`"
   ]
  },
  {
   "cell_type": "code",
   "execution_count": 5,
   "id": "b6915bd4",
   "metadata": {},
   "outputs": [],
   "source": [
    "# Wrap together with the instructor client\n",
    "instructor_client = instructor.from_openai(together_client)"
   ]
  },
  {
   "cell_type": "code",
   "execution_count": 6,
   "id": "0519e4aa",
   "metadata": {},
   "outputs": [],
   "source": [
    "from pydantic import BaseModel\n",
    "\n",
    "class Greeting(BaseModel):\n",
    "    hello: str"
   ]
  },
  {
   "cell_type": "code",
   "execution_count": 7,
   "id": "65c21a14",
   "metadata": {},
   "outputs": [
    {
     "data": {
      "text/plain": [
       "Greeting(hello='sup')"
      ]
     },
     "execution_count": 7,
     "metadata": {},
     "output_type": "execute_result"
    }
   ],
   "source": [
    "response = instructor_client.chat.completions.create(\n",
    "    model='meta-llama/Meta-Llama-3.1-8B-Instruct-Turbo',\n",
    "    # model=\"gpt-4o-mini\",\n",
    "    messages = [{\n",
    "        \"role\": \"user\", \n",
    "        \"content\": 'sup'\n",
    "    }], \n",
    "    # Note: OpenAI uses response_format, instructor\n",
    "    #       uses response_model!\n",
    "    response_model=Greeting\n",
    ")\n",
    "\n",
    "response"
   ]
  },
  {
   "cell_type": "markdown",
   "id": "e1e63106",
   "metadata": {},
   "source": [
    "## Defining a calendar event"
   ]
  },
  {
   "cell_type": "code",
   "execution_count": 8,
   "id": "eeb54cd8",
   "metadata": {},
   "outputs": [],
   "source": [
    "from pydantic import Field\n",
    "from datetime import date\n",
    "from typing import List\n",
    "\n",
    "# Person only has a name, but we can easily extend it with other fields\n",
    "class Person(BaseModel):\n",
    "    name: str\n",
    "\n",
    "class CalendarEvent(BaseModel):\n",
    "    name: str\n",
    "    \n",
    "    # not supported by OpenAI. We want a format like 2025-01-30\n",
    "    date: date \n",
    "    participants: List[Person]\n",
    "\n",
    "    address_number: str\n",
    "    street_name: str\n",
    "    city_name: str\n",
    "\n",
    "    # Inline regex patterns not supported by OpenAI restrict state code \n",
    "    # to be two capital letters (OpenAI does not support pattern fields)\n",
    "    state_code: str = Field(pattern=r'[A-Z]{2}')\n",
    "\n",
    "    # Zip code must be five digits\n",
    "    zip_code: str = Field(pattern=r'\\d{5}') \n"
   ]
  },
  {
   "cell_type": "code",
   "execution_count": 9,
   "id": "7e5b7f50",
   "metadata": {},
   "outputs": [],
   "source": [
    "event_description = \"\"\"\n",
    "Alice and Bob are going to a science fair on Friday, January 2024.\n",
    "The science fair is hosted at the gymnasium of Hazeldale Elementary\n",
    "School at 20080 SW Farmington Road in Beaverton Oregon.\n",
    "\"\"\""
   ]
  },
  {
   "cell_type": "code",
   "execution_count": 10,
   "id": "fcab2a16",
   "metadata": {},
   "outputs": [],
   "source": [
    "def generate(\n",
    "    response_model, \n",
    "    user_prompt, \n",
    "    system_prompt=\"You are a helpful assistant.\",\n",
    "    model=\"meta-llama/Meta-Llama-3.1-8B-Instruct-Turbo\",\n",
    "    # model=\"gpt-4o-mini\",\n",
    "    # Can use 70b for a higher-quality model\n",
    "    # model=\"meta-llama/Meta-Llama-3.1-70B-Instruct-Turbo\",\n",
    "    max_retries=3,\n",
    "):\n",
    "    event = instructor_client.chat.completions.create(\n",
    "        model=model,\n",
    "        messages=[\n",
    "            {\"role\": \"system\", \"content\": system_prompt},\n",
    "            {\"role\": \"user\", \"content\": user_prompt\n",
    "            },\n",
    "        ],\n",
    "        response_model=response_model,\n",
    "        max_retries=max_retries\n",
    "    )\n",
    "\n",
    "    return event"
   ]
  },
  {
   "cell_type": "code",
   "execution_count": 11,
   "id": "2a215b16",
   "metadata": {},
   "outputs": [],
   "source": [
    "system_prompt = \"\"\"\n",
    "Make a calendar event. Respond in JSON with\n",
    "the event name, date, list of participants,\n",
    "and the address.\n",
    "\"\"\"\n",
    "\n",
    "user_prompt = 'Event description: ' + event_description\n",
    "\n",
    "event = generate(\n",
    "    CalendarEvent, \n",
    "    user_prompt, \n",
    "    system_prompt=system_prompt\n",
    ")"
   ]
  },
  {
   "cell_type": "code",
   "execution_count": 12,
   "id": "3d5a1680",
   "metadata": {},
   "outputs": [
    {
     "data": {
      "text/plain": [
       "CalendarEvent(name='Science Fair', date=datetime.date(2024, 1, 1), participants=[Person(name='Alice'), Person(name='Bob')], address_number='20080', street_name='SW Farmington Road', city_name='Beaverton', state_code='OR', zip_code='97007')"
      ]
     },
     "execution_count": 12,
     "metadata": {},
     "output_type": "execute_result"
    }
   ],
   "source": [
    "event"
   ]
  },
  {
   "cell_type": "markdown",
   "id": "642ba299",
   "metadata": {},
   "source": [
    "# Retries"
   ]
  },
  {
   "cell_type": "code",
   "execution_count": 13,
   "id": "998ac6c3",
   "metadata": {},
   "outputs": [],
   "source": [
    "from utils import UsageTracker\n",
    "\n",
    "# Clear any completion response hooks -- prevents \n",
    "# duplicate writes to the usage tracker.\n",
    "instructor_client.clear(\"completion:response\")\n",
    "\n",
    "# Create a new tracker\n",
    "tracker = UsageTracker()\n",
    "\n",
    "# Define a custom instructor hook and update the\n",
    "# tracker when a new completion runs.\n",
    "def log_completion_kwargs(*args, **kwargs):\n",
    "    usage = args[0].usage\n",
    "    tracker.track(usage)\n",
    "\n",
    "# Assign the hook to instructor -- this will make the hook\n",
    "# run each time the server returns a chat completion to us.\n",
    "instructor_client.on(\"completion:response\", log_completion_kwargs)"
   ]
  },
  {
   "cell_type": "code",
   "execution_count": 14,
   "id": "f9cbbb2e",
   "metadata": {},
   "outputs": [
    {
     "data": {
      "text/plain": [
       "CalendarEvent(name='Science Fair', date=datetime.date(2024, 1, 5), participants=[Person(name='Alice'), Person(name='Bob')], address_number='20080', street_name='SW Farmington Road', city_name='Beaverton', state_code='OR', zip_code='97005')"
      ]
     },
     "execution_count": 14,
     "metadata": {},
     "output_type": "execute_result"
    }
   ],
   "source": [
    "# Clear the tracker before we run the completion\n",
    "# so we arent' tracking multiple jobs.\n",
    "tracker.clear()\n",
    "\n",
    "event = generate(\n",
    "    CalendarEvent, \n",
    "    user_prompt, \n",
    "    system_prompt=system_prompt,\n",
    "    max_retries=4,\n",
    ")\n",
    "\n",
    "event"
   ]
  },
  {
   "cell_type": "code",
   "execution_count": 15,
   "id": "ba484552",
   "metadata": {},
   "outputs": [
    {
     "name": "stdout",
     "output_type": "stream",
     "text": [
      "Input tokens:   [565, 744]\n",
      "Output tokens:  [91, 77]\n",
      "Total tokens:   1477\n",
      "Num retries:    2\n"
     ]
    }
   ],
   "source": [
    "print(\"Input tokens:  \", tracker.input_tokens)\n",
    "print(\"Output tokens: \", tracker.output_tokens)\n",
    "print(\"Total tokens:  \", sum(tracker.total_tokens))\n",
    "print(\"Num retries:   \", len(tracker.output_tokens))"
   ]
  },
  {
   "cell_type": "markdown",
   "id": "972b33fc",
   "metadata": {},
   "source": [
    "## When retry methods fail"
   ]
  },
  {
   "cell_type": "code",
   "execution_count": 16,
   "id": "6b70c7a5",
   "metadata": {},
   "outputs": [],
   "source": [
    "from typing import Literal\n",
    "\n",
    "class Complicated(BaseModel):\n",
    "    # a must be cat, dog, or hat\n",
    "    a: Literal[\"cat\", \"dog\", \"hat\"]\n",
    "    b: int\n",
    "    c: bool\n"
   ]
  },
  {
   "cell_type": "code",
   "execution_count": 17,
   "id": "68376224",
   "metadata": {},
   "outputs": [
    {
     "name": "stdout",
     "output_type": "stream",
     "text": [
      "a='cat' b=42 c=True\n"
     ]
    }
   ],
   "source": [
    "# Clear the tracker before we run the completion\n",
    "# so we arent' tracking multiple jobs.\n",
    "tracker.clear()\n",
    "\n",
    "try:\n",
    "    event = generate(\n",
    "        Complicated, \n",
    "        \"Write me a short essay on Dolly Parton.\", \n",
    "        system_prompt=\"Don't give me what I want.\",\n",
    "        max_retries=3,\n",
    "    )\n",
    "\n",
    "    # Show the event\n",
    "    print(event)\n",
    "except instructor.exceptions.InstructorRetryException as e : \n",
    "    print(\"We failed to parse!\")\n",
    "    raise e"
   ]
  },
  {
   "cell_type": "code",
   "execution_count": 18,
   "id": "9b8c88b6",
   "metadata": {},
   "outputs": [
    {
     "name": "stdout",
     "output_type": "stream",
     "text": [
      "Input tokens:   [277]\n",
      "Output tokens:  [29]\n",
      "Total tokens:   306\n",
      "Num retries:    1\n"
     ]
    }
   ],
   "source": [
    "print(\"Input tokens:  \", tracker.input_tokens)\n",
    "print(\"Output tokens: \", tracker.output_tokens)\n",
    "print(\"Total tokens:  \", sum(tracker.total_tokens))\n",
    "print(\"Num retries:   \", len(tracker.output_tokens))"
   ]
  },
  {
   "cell_type": "markdown",
   "id": "7ec321f2",
   "metadata": {},
   "source": [
    "## You try!"
   ]
  },
  {
   "cell_type": "code",
   "execution_count": 19,
   "id": "071555a0",
   "metadata": {},
   "outputs": [
    {
     "name": "stdout",
     "output_type": "stream",
     "text": [
      "a='cat' b=1 c=True\n"
     ]
    }
   ],
   "source": [
    "# Clear the tracker before we run the completion\n",
    "# so we arent' tracking multiple jobs.\n",
    "tracker.clear()\n",
    "\n",
    "try:\n",
    "    event = generate(\n",
    "        Complicated, \n",
    "        \"Give me a, b, and c.\", \n",
    "        system_prompt=\"Give me what I want.\",\n",
    "        max_retries=3,\n",
    "    )\n",
    "    print(event)\n",
    "except instructor.exceptions.InstructorRetryException as e : \n",
    "    print(\"We failed to parse!\")\n",
    "    raise e"
   ]
  },
  {
   "cell_type": "code",
   "execution_count": 20,
   "id": "a7cdafc8",
   "metadata": {},
   "outputs": [
    {
     "name": "stdout",
     "output_type": "stream",
     "text": [
      "Input tokens:   [273]\n",
      "Output tokens:  [28]\n",
      "Total tokens:   301\n",
      "Num retries:    1\n"
     ]
    }
   ],
   "source": [
    "print(\"Input tokens:  \", tracker.input_tokens)\n",
    "print(\"Output tokens: \", tracker.output_tokens)\n",
    "print(\"Total tokens:  \", sum(tracker.total_tokens))\n",
    "print(\"Num retries:   \", len(tracker.output_tokens))"
   ]
  }
 ],
 "metadata": {
  "kernelspec": {
   "display_name": ".venv",
   "language": "python",
   "name": "python3"
  },
  "language_info": {
   "codemirror_mode": {
    "name": "ipython",
    "version": 3
   },
   "file_extension": ".py",
   "mimetype": "text/x-python",
   "name": "python",
   "nbconvert_exporter": "python",
   "pygments_lexer": "ipython3",
   "version": "3.12.7"
  }
 },
 "nbformat": 4,
 "nbformat_minor": 5
}
