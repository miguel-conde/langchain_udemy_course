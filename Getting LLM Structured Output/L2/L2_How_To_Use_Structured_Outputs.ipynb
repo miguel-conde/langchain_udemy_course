{
 "cells": [
  {
   "cell_type": "markdown",
   "id": "70a913ce",
   "metadata": {},
   "source": [
    "# L2: How To Use Structured Outputs\n",
    "\n",
    "+ Pros\n",
    "    + JSON is a very powerful form of structured outputs!\n",
    "    + Easy to use if already using OpeanAI or most other proprietary APIs\n",
    "    + Rapidly evolving space with new features popping up frequently\n",
    "+ Cons\n",
    "    + Only works with specific, closed models\n",
    "    + Changing providers often requires a major refactor\n",
    "    + Inconsistent results (depending on provider)\n",
    "    + Unclear impact on quality of output\n",
    "    + Limited options for types of structure, tipically a limited subset of JSON"
   ]
  },
  {
   "cell_type": "code",
   "execution_count": 1,
   "id": "4c721536",
   "metadata": {},
   "outputs": [],
   "source": [
    "# Warning control\n",
    "import warnings\n",
    "warnings.filterwarnings('ignore')"
   ]
  },
  {
   "cell_type": "code",
   "execution_count": null,
   "id": "6c85f3ce",
   "metadata": {},
   "outputs": [],
   "source": [
    "# import os\n",
    "# from helper import get_openai_api_key\n",
    "# KEY = get_openai_api_key()"
   ]
  },
  {
   "cell_type": "code",
   "execution_count": 3,
   "id": "893e9297",
   "metadata": {},
   "outputs": [],
   "source": [
    "from openai import OpenAI\n",
    "\n",
    "# Instantiate the client\n",
    "client = OpenAI(\n",
    "    # api_key=KEY\n",
    ")"
   ]
  },
  {
   "cell_type": "markdown",
   "id": "69513ffe",
   "metadata": {},
   "source": [
    "## Define structure with Pydantic"
   ]
  },
  {
   "cell_type": "code",
   "execution_count": 4,
   "id": "02da71e2",
   "metadata": {},
   "outputs": [],
   "source": [
    "# The user class from the slides\n",
    "from pydantic import BaseModel\n",
    "from typing import Optional\n",
    "\n",
    "class User(BaseModel):\n",
    "    name: str\n",
    "    age: int\n",
    "    email: Optional[str] = None"
   ]
  },
  {
   "cell_type": "code",
   "execution_count": 5,
   "id": "0ead1942",
   "metadata": {},
   "outputs": [],
   "source": [
    "completion = client.beta.chat.completions.parse(\n",
    "    model=\"gpt-4o-mini\",\n",
    "    messages=[\n",
    "        {\"role\": \"system\", \"content\": \"You are a helpful assistant.\"},\n",
    "        {\"role\": \"user\", \"content\": \"Make up a user.\"},\n",
    "    ],\n",
    "    response_format=User,\n",
    ")"
   ]
  },
  {
   "cell_type": "code",
   "execution_count": 7,
   "id": "a542ee5b",
   "metadata": {},
   "outputs": [
    {
     "data": {
      "text/plain": [
       "ParsedChatCompletion[User](id='chatcmpl-BItm6ybyxlLMkbRViLRKIYsmR0BL5', choices=[ParsedChoice[User](finish_reason='stop', index=0, logprobs=None, message=ParsedChatCompletionMessage[User](content='{\"name\":\"John Doe\",\"age\":28,\"email\":\"johndoe@example.com\"}', refusal=None, role='assistant', audio=None, function_call=None, tool_calls=[], parsed=User(name='John Doe', age=28, email='johndoe@example.com'), annotations=[]))], created=1743844002, model='gpt-4o-mini-2024-07-18', object='chat.completion', service_tier='default', system_fingerprint='fp_b376dfbbd5', usage=CompletionUsage(completion_tokens=20, prompt_tokens=85, total_tokens=105, completion_tokens_details=CompletionTokensDetails(accepted_prediction_tokens=0, audio_tokens=0, reasoning_tokens=0, rejected_prediction_tokens=0), prompt_tokens_details=PromptTokensDetails(audio_tokens=0, cached_tokens=0)))"
      ]
     },
     "execution_count": 7,
     "metadata": {},
     "output_type": "execute_result"
    }
   ],
   "source": [
    "completion"
   ]
  },
  {
   "cell_type": "code",
   "execution_count": 6,
   "id": "c3687b63",
   "metadata": {},
   "outputs": [
    {
     "data": {
      "text/plain": [
       "User(name='John Doe', age=28, email='johndoe@example.com')"
      ]
     },
     "execution_count": 6,
     "metadata": {},
     "output_type": "execute_result"
    }
   ],
   "source": [
    "user = completion.choices[0].message.parsed\n",
    "user"
   ]
  },
  {
   "cell_type": "markdown",
   "id": "4576e022",
   "metadata": {},
   "source": [
    "## The social media mention structure"
   ]
  },
  {
   "cell_type": "code",
   "execution_count": 8,
   "id": "7b74d941",
   "metadata": {},
   "outputs": [],
   "source": [
    "from pydantic import BaseModel\n",
    "from enum import Enum\n",
    "from typing import List, Optional, Literal\n",
    "from openai import OpenAI\n",
    "\n",
    "class Mention(BaseModel):\n",
    "    # The model chooses the product the mention is about,\n",
    "    # as well as the social media post's sentiment\n",
    "    product: Literal['app', 'website', 'not_applicable']\n",
    "    sentiment: Literal['positive', 'negative', 'neutral']\n",
    "\n",
    "    # Model can choose to respond to the user\n",
    "    needs_response: bool\n",
    "    response: Optional[str]\n",
    "\n",
    "    # If a support ticket needs to be opened, \n",
    "    # the model can write a description for the\n",
    "    # developers\n",
    "    support_ticket_description: Optional[str]"
   ]
  },
  {
   "cell_type": "code",
   "execution_count": 9,
   "id": "8da36a91",
   "metadata": {},
   "outputs": [],
   "source": [
    "# Example mentions\n",
    "mentions = [\n",
    "    # About the app\n",
    "    \"@techcorp your app is amazing! The new design is perfect\",\n",
    "    # Website is down, negative sentiment + needs a fix\n",
    "    \"@techcorp website is down again, please fix!\",\n",
    "    # Nothing to respond to\n",
    "    \"hey @techcorp you're so evil\"\n",
    "]"
   ]
  },
  {
   "cell_type": "code",
   "execution_count": 10,
   "id": "57906d58",
   "metadata": {},
   "outputs": [],
   "source": [
    "def analyze_mention(\n",
    "    mention: str, \n",
    "    personality: str = \"friendly\"\n",
    ") -> Mention:\n",
    "    completion = client.beta.chat.completions.parse(\n",
    "        model=\"gpt-4o-mini\",\n",
    "        messages=[\n",
    "            {\"role\": \"system\", \"content\": f\"\"\"\n",
    "                Extract structured information from \n",
    "                social media mentions about our products.\n",
    "\n",
    "                Provide\n",
    "                - The product mentioned (website, app, not applicable)\n",
    "                - The mention sentiment (positive, negative, neutral)\n",
    "                - Whether to respond (true/false). Don't respond to \n",
    "                  inflammatory messages or bait.\n",
    "                - A customized response to send to the user if we need \n",
    "                  to respond.\n",
    "                - An optional support ticket description to create.\n",
    "\n",
    "                Your personality is {personality}.\n",
    "            \"\"\"},\n",
    "            {\"role\": \"user\", \"content\": mention},\n",
    "        ],\n",
    "        response_format=Mention,\n",
    "    )\n",
    "    return completion.choices[0].message.parsed"
   ]
  },
  {
   "cell_type": "code",
   "execution_count": 11,
   "id": "a59d9fc2",
   "metadata": {},
   "outputs": [
    {
     "name": "stdout",
     "output_type": "stream",
     "text": [
      "User post: @techcorp your app is amazing! The new design is perfect\n"
     ]
    },
    {
     "data": {
      "text/plain": [
       "Mention(product='app', sentiment='positive', needs_response=True, response=\"Thank you so much for your kind words! We're thrilled to hear that you love the new design. If you have any feedback or suggestions, feel free to share!\", support_ticket_description=None)"
      ]
     },
     "execution_count": 11,
     "metadata": {},
     "output_type": "execute_result"
    }
   ],
   "source": [
    "print(\"User post:\", mentions[0])\n",
    "processed_mention = analyze_mention(mentions[0])\n",
    "processed_mention"
   ]
  },
  {
   "cell_type": "code",
   "execution_count": 12,
   "id": "d16ad2d0",
   "metadata": {},
   "outputs": [
    {
     "data": {
      "text/plain": [
       "'Well, finally someone with good taste! Thanks for noticing the changes, enjoy!'"
      ]
     },
     "execution_count": 12,
     "metadata": {},
     "output_type": "execute_result"
    }
   ],
   "source": [
    "rude_mention = analyze_mention(mentions[0], personality=\"rude\")\n",
    "rude_mention.response"
   ]
  },
  {
   "cell_type": "code",
   "execution_count": 13,
   "id": "9daadedb",
   "metadata": {},
   "outputs": [
    {
     "name": "stdout",
     "output_type": "stream",
     "text": [
      "{\n",
      "  \"product\": \"app\",\n",
      "  \"sentiment\": \"positive\",\n",
      "  \"needs_response\": true,\n",
      "  \"response\": \"Thank you so much for your kind words! We're thrilled to hear that you love the new design. If you have any feedback or suggestions, feel free to share!\",\n",
      "  \"support_ticket_description\": null\n",
      "}\n"
     ]
    }
   ],
   "source": [
    "mention_json_string = processed_mention.model_dump_json(indent=2)\n",
    "print(mention_json_string)"
   ]
  },
  {
   "cell_type": "markdown",
   "id": "390b7f40",
   "metadata": {},
   "source": [
    "## You try!"
   ]
  },
  {
   "cell_type": "code",
   "execution_count": 14,
   "id": "4677e7bd",
   "metadata": {},
   "outputs": [
    {
     "data": {
      "text/plain": [
       "UserPost(message='Just wanted to say how much I love the Tech Corp app! The user interface is sleek and easy to navigate, and I appreciate the regular updates that keep improving the experience. Keep up the great work!')"
      ]
     },
     "execution_count": 14,
     "metadata": {},
     "output_type": "execute_result"
    }
   ],
   "source": [
    "class UserPost(BaseModel):\n",
    "    message: str\n",
    "\n",
    "def make_post(output_class):\n",
    "    completion = client.beta.chat.completions.parse(\n",
    "        model=\"gpt-4o-mini\",\n",
    "        messages=[\n",
    "            {\"role\": \"system\", \"content\": \"\"\"\n",
    "                You are a customer of Tech Corp (@techcorp), a company\n",
    "                that provides an app and a website. Create a small \n",
    "                microblog-style post to them that sends some kind of \n",
    "                feedback, positive or negative.\n",
    "            \"\"\"},\n",
    "            {\"role\": \"user\", \"content\": \"Please write a post.\"},\n",
    "        ],\n",
    "        response_format=output_class,\n",
    "    )\n",
    "    return completion.choices[0].message.parsed\n",
    "\n",
    "new_post = make_post(UserPost)\n",
    "new_post"
   ]
  },
  {
   "cell_type": "code",
   "execution_count": 15,
   "id": "4fd3de36",
   "metadata": {},
   "outputs": [
    {
     "data": {
      "text/plain": [
       "Mention(product='app', sentiment='positive', needs_response=True, response=\"Thank you so much for your kind words! We're thrilled to hear that you love the Tech Corp app and appreciate the updates. Your feedback motivates us to keep improving. If you have any suggestions or ideas, feel free to share!\", support_ticket_description=None)"
      ]
     },
     "execution_count": 15,
     "metadata": {},
     "output_type": "execute_result"
    }
   ],
   "source": [
    "analyze_mention(new_post.message)"
   ]
  },
  {
   "cell_type": "markdown",
   "id": "1c4ebdd2",
   "metadata": {},
   "source": [
    "## Programming with our mentions"
   ]
  },
  {
   "cell_type": "code",
   "execution_count": 16,
   "id": "e1e34037",
   "metadata": {},
   "outputs": [
    {
     "name": "stdout",
     "output_type": "stream",
     "text": [
      "Responding to positive app feedback\n",
      "  User: @techcorp your app is amazing! The new design is perfect\n",
      "  Response: Thank you so much for your kind words! We're thrilled to hear you love the new design! If you have any more feedback or suggestions, feel free to share!\n",
      "\n",
      "Responding to negative website feedback\n",
      "  User: @techcorp website is down again, please fix!\n",
      "  Response: We're sorry to hear you're experiencing issues with our website! We're on it and will get it back up as soon as possible. Thank you for your patience!\n",
      "  Adding support ticket: User reported that the website is down. Request to investigate the cause and restore functionality.\n",
      "\n",
      "Not responding to negative not_applicable post\n",
      "  User: hey @techcorp you're so evil\n",
      "\n"
     ]
    }
   ],
   "source": [
    "from helper import print_mention\n",
    "\n",
    "# Loop through posts that tagged us and store the results in a list\n",
    "rows = []\n",
    "for mention in mentions:\n",
    "    # Call the LLM to get a Mention object we can program with\n",
    "    processed_mention = analyze_mention(mention)\n",
    "\n",
    "    # Print out some information\n",
    "    print_mention(processed_mention, mention)\n",
    "    \n",
    "    # Convert our processed data to a dictionary\n",
    "    # using Pydantic tools\n",
    "    processed_dict = processed_mention.model_dump()\n",
    "    \n",
    "    # Store the original message in the dataframe row\n",
    "    processed_dict['mention'] = mention\n",
    "    rows.append(processed_dict)\n",
    "    \n",
    "    print(\"\") # Add separator to make it easier to read"
   ]
  },
  {
   "cell_type": "markdown",
   "id": "8020ac9f",
   "metadata": {},
   "source": [
    "    "
   ]
  }
 ],
 "metadata": {
  "kernelspec": {
   "display_name": ".venv",
   "language": "python",
   "name": "python3"
  },
  "language_info": {
   "codemirror_mode": {
    "name": "ipython",
    "version": 3
   },
   "file_extension": ".py",
   "mimetype": "text/x-python",
   "name": "python",
   "nbconvert_exporter": "python",
   "pygments_lexer": "ipython3",
   "version": "3.12.7"
  }
 },
 "nbformat": 4,
 "nbformat_minor": 5
}
